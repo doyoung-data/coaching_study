{
 "cells": [
  {
   "cell_type": "markdown",
   "id": "e98f8d07",
   "metadata": {},
   "source": [
    "## python for data analysis\n",
    "* 파이썬 공식 튜토리얼 : https://docs.python.org/3/tutorial/index.html"
   ]
  },
  {
   "cell_type": "markdown",
   "id": "7a24f659",
   "metadata": {},
   "source": [
    "# Zen for Python\n",
    "* 파이썬 철학이 잘 담겨있는 Zen of Python 출력"
   ]
  },
  {
   "cell_type": "code",
   "execution_count": 1,
   "id": "35937ddb",
   "metadata": {},
   "outputs": [
    {
     "name": "stdout",
     "output_type": "stream",
     "text": [
      "The Zen of Python, by Tim Peters\n",
      "\n",
      "Beautiful is better than ugly.\n",
      "Explicit is better than implicit.\n",
      "Simple is better than complex.\n",
      "Complex is better than complicated.\n",
      "Flat is better than nested.\n",
      "Sparse is better than dense.\n",
      "Readability counts.\n",
      "Special cases aren't special enough to break the rules.\n",
      "Although practicality beats purity.\n",
      "Errors should never pass silently.\n",
      "Unless explicitly silenced.\n",
      "In the face of ambiguity, refuse the temptation to guess.\n",
      "There should be one-- and preferably only one --obvious way to do it.\n",
      "Although that way may not be obvious at first unless you're Dutch.\n",
      "Now is better than never.\n",
      "Although never is often better than *right* now.\n",
      "If the implementation is hard to explain, it's a bad idea.\n",
      "If the implementation is easy to explain, it may be a good idea.\n",
      "Namespaces are one honking great idea -- let's do more of those!\n"
     ]
    }
   ],
   "source": [
    "import this"
   ]
  },
  {
   "cell_type": "markdown",
   "id": "9cc6f426",
   "metadata": {},
   "source": [
    "# boolean\n",
    "* 파이썬에는 명시적인 것이 암시적인 것보다 낫다라는 철학이 있음\n",
    "* True나 False는 0과 1로도 표현할 수 있으나 명시적으로 표현하기 위해 True와 False를 사용"
   ]
  },
  {
   "cell_type": "code",
   "execution_count": 2,
   "id": "61ea7653",
   "metadata": {},
   "outputs": [
    {
     "data": {
      "text/plain": [
       "True"
      ]
     },
     "execution_count": 2,
     "metadata": {},
     "output_type": "execute_result"
    }
   ],
   "source": [
    "True"
   ]
  },
  {
   "cell_type": "code",
   "execution_count": 3,
   "id": "7a4a31c2",
   "metadata": {},
   "outputs": [
    {
     "data": {
      "text/plain": [
       "False"
      ]
     },
     "execution_count": 3,
     "metadata": {},
     "output_type": "execute_result"
    }
   ],
   "source": [
    "False"
   ]
  },
  {
   "cell_type": "code",
   "execution_count": 5,
   "id": "a5f173c8",
   "metadata": {},
   "outputs": [
    {
     "data": {
      "text/plain": [
       "True"
      ]
     },
     "execution_count": 5,
     "metadata": {},
     "output_type": "execute_result"
    }
   ],
   "source": [
    "True == 1"
   ]
  },
  {
   "cell_type": "code",
   "execution_count": 6,
   "id": "013418e3",
   "metadata": {},
   "outputs": [
    {
     "data": {
      "text/plain": [
       "True"
      ]
     },
     "execution_count": 6,
     "metadata": {},
     "output_type": "execute_result"
    }
   ],
   "source": [
    "False == 0"
   ]
  },
  {
   "cell_type": "code",
   "execution_count": 7,
   "id": "e9464803",
   "metadata": {},
   "outputs": [
    {
     "data": {
      "text/plain": [
       "False"
      ]
     },
     "execution_count": 7,
     "metadata": {},
     "output_type": "execute_result"
    }
   ],
   "source": [
    "True == \"1\""
   ]
  },
  {
   "cell_type": "code",
   "execution_count": 8,
   "id": "4f2f2edd",
   "metadata": {},
   "outputs": [
    {
     "data": {
      "text/plain": [
       "True"
      ]
     },
     "execution_count": 8,
     "metadata": {},
     "output_type": "execute_result"
    }
   ],
   "source": [
    "True != \"1\""
   ]
  },
  {
   "cell_type": "code",
   "execution_count": 11,
   "id": "5edb18a0",
   "metadata": {},
   "outputs": [
    {
     "data": {
      "text/plain": [
       "False"
      ]
     },
     "execution_count": 11,
     "metadata": {},
     "output_type": "execute_result"
    }
   ],
   "source": [
    "False == \"0\""
   ]
  },
  {
   "cell_type": "code",
   "execution_count": 12,
   "id": "219455cc",
   "metadata": {},
   "outputs": [
    {
     "data": {
      "text/plain": [
       "True"
      ]
     },
     "execution_count": 12,
     "metadata": {},
     "output_type": "execute_result"
    }
   ],
   "source": [
    "False != \"0\""
   ]
  },
  {
   "cell_type": "code",
   "execution_count": 13,
   "id": "b87145fd",
   "metadata": {},
   "outputs": [
    {
     "data": {
      "text/plain": [
       "True"
      ]
     },
     "execution_count": 13,
     "metadata": {},
     "output_type": "execute_result"
    }
   ],
   "source": [
    "True and True"
   ]
  },
  {
   "cell_type": "code",
   "execution_count": 14,
   "id": "b40c66ba",
   "metadata": {},
   "outputs": [
    {
     "data": {
      "text/plain": [
       "False"
      ]
     },
     "execution_count": 14,
     "metadata": {},
     "output_type": "execute_result"
    }
   ],
   "source": [
    "True and False"
   ]
  },
  {
   "cell_type": "code",
   "execution_count": 15,
   "id": "781b8464",
   "metadata": {},
   "outputs": [
    {
     "data": {
      "text/plain": [
       "True"
      ]
     },
     "execution_count": 15,
     "metadata": {},
     "output_type": "execute_result"
    }
   ],
   "source": [
    "True or False"
   ]
  },
  {
   "cell_type": "markdown",
   "id": "3d41b4f7",
   "metadata": {},
   "source": [
    "# Numver and String\n",
    "* 숫자 1과 문자 \"1\"은 다름. 숫자 1과 문자 1의 데이터 타입을 출력\n",
    "* 데이터 타입을 표현할 때 type을 통해 데이터를 출력"
   ]
  },
  {
   "cell_type": "code",
   "execution_count": 16,
   "id": "8d3f06a2",
   "metadata": {},
   "outputs": [
    {
     "data": {
      "text/plain": [
       "1"
      ]
     },
     "execution_count": 16,
     "metadata": {},
     "output_type": "execute_result"
    }
   ],
   "source": [
    "1"
   ]
  },
  {
   "cell_type": "code",
   "execution_count": 17,
   "id": "4470bb9c",
   "metadata": {},
   "outputs": [
    {
     "data": {
      "text/plain": [
       "'1'"
      ]
     },
     "execution_count": 17,
     "metadata": {},
     "output_type": "execute_result"
    }
   ],
   "source": [
    "\"1\""
   ]
  },
  {
   "cell_type": "code",
   "execution_count": 18,
   "id": "633ba8a5",
   "metadata": {},
   "outputs": [
    {
     "data": {
      "text/plain": [
       "int"
      ]
     },
     "execution_count": 18,
     "metadata": {},
     "output_type": "execute_result"
    }
   ],
   "source": [
    "type(1)"
   ]
  },
  {
   "cell_type": "code",
   "execution_count": 19,
   "id": "7632c448",
   "metadata": {},
   "outputs": [
    {
     "data": {
      "text/plain": [
       "str"
      ]
     },
     "execution_count": 19,
     "metadata": {},
     "output_type": "execute_result"
    }
   ],
   "source": [
    "type(\"1\")"
   ]
  },
  {
   "cell_type": "code",
   "execution_count": 20,
   "id": "5609a30d",
   "metadata": {},
   "outputs": [
    {
     "data": {
      "text/plain": [
       "False"
      ]
     },
     "execution_count": 20,
     "metadata": {},
     "output_type": "execute_result"
    }
   ],
   "source": [
    "1 == \"1\""
   ]
  },
  {
   "cell_type": "markdown",
   "id": "e9721e0e",
   "metadata": {},
   "source": [
    "# Strings and Lists"
   ]
  },
  {
   "cell_type": "code",
   "execution_count": 21,
   "id": "e1590192",
   "metadata": {},
   "outputs": [
    {
     "data": {
      "text/plain": [
       "'Hello world!'"
      ]
     },
     "execution_count": 21,
     "metadata": {},
     "output_type": "execute_result"
    }
   ],
   "source": [
    "\"Hello world!\""
   ]
  },
  {
   "cell_type": "code",
   "execution_count": 22,
   "id": "32a27800",
   "metadata": {},
   "outputs": [
    {
     "data": {
      "text/plain": [
       "'대구광역시 수성구'"
      ]
     },
     "execution_count": 22,
     "metadata": {},
     "output_type": "execute_result"
    }
   ],
   "source": [
    "\"대구광역시 수성구\""
   ]
  },
  {
   "cell_type": "markdown",
   "id": "0f81cd82",
   "metadata": {},
   "source": [
    "# Strings"
   ]
  },
  {
   "cell_type": "code",
   "execution_count": 24,
   "id": "8c2a50ee",
   "metadata": {},
   "outputs": [
    {
     "data": {
      "text/plain": [
       "'Today I Learnde'"
      ]
     },
     "execution_count": 24,
     "metadata": {},
     "output_type": "execute_result"
    }
   ],
   "source": [
    "til = \"Today I Learnde\"\n",
    "til"
   ]
  },
  {
   "cell_type": "code",
   "execution_count": 25,
   "id": "e6eab279",
   "metadata": {},
   "outputs": [
    {
     "data": {
      "text/plain": [
       "'today i learnde'"
      ]
     },
     "execution_count": 25,
     "metadata": {},
     "output_type": "execute_result"
    }
   ],
   "source": [
    "til.lower()"
   ]
  },
  {
   "cell_type": "code",
   "execution_count": 27,
   "id": "d1ac6844",
   "metadata": {},
   "outputs": [
    {
     "data": {
      "text/plain": [
       "'TODAY I LEARNDE'"
      ]
     },
     "execution_count": 27,
     "metadata": {},
     "output_type": "execute_result"
    }
   ],
   "source": [
    "til.upper()"
   ]
  },
  {
   "cell_type": "markdown",
   "id": "c5843212",
   "metadata": {},
   "source": [
    "# lists"
   ]
  },
  {
   "cell_type": "code",
   "execution_count": 29,
   "id": "a1fc09cb",
   "metadata": {},
   "outputs": [
    {
     "data": {
      "text/plain": [
       "[]"
      ]
     },
     "execution_count": 29,
     "metadata": {},
     "output_type": "execute_result"
    }
   ],
   "source": [
    "lang = []\n",
    "lang"
   ]
  },
  {
   "cell_type": "code",
   "execution_count": 30,
   "id": "1314f5b5",
   "metadata": {},
   "outputs": [
    {
     "data": {
      "text/plain": [
       "['python', 'java', 'c']"
      ]
     },
     "execution_count": 30,
     "metadata": {},
     "output_type": "execute_result"
    }
   ],
   "source": [
    "lang.append(\"python\")\n",
    "lang.append(\"java\")\n",
    "lang.append(\"c\")\n",
    "lang"
   ]
  },
  {
   "cell_type": "code",
   "execution_count": 32,
   "id": "09bc1f57",
   "metadata": {},
   "outputs": [
    {
     "data": {
      "text/plain": [
       "'python'"
      ]
     },
     "execution_count": 32,
     "metadata": {},
     "output_type": "execute_result"
    }
   ],
   "source": [
    "lang[0]"
   ]
  },
  {
   "cell_type": "code",
   "execution_count": 34,
   "id": "fae6fc9d",
   "metadata": {},
   "outputs": [
    {
     "data": {
      "text/plain": [
       "'java'"
      ]
     },
     "execution_count": 34,
     "metadata": {},
     "output_type": "execute_result"
    }
   ],
   "source": [
    "lang[1]"
   ]
  },
  {
   "cell_type": "code",
   "execution_count": 35,
   "id": "f306e341",
   "metadata": {},
   "outputs": [
    {
     "data": {
      "text/plain": [
       "'c'"
      ]
     },
     "execution_count": 35,
     "metadata": {},
     "output_type": "execute_result"
    }
   ],
   "source": [
    "lang[-1]"
   ]
  },
  {
   "cell_type": "markdown",
   "id": "215f81a2",
   "metadata": {},
   "source": [
    "#  Control Flow\n",
    "* 제어문 - 조건문, 반복문"
   ]
  },
  {
   "cell_type": "code",
   "execution_count": 36,
   "id": "5c5f8c41",
   "metadata": {},
   "outputs": [
    {
     "name": "stdout",
     "output_type": "stream",
     "text": [
      "python\n",
      "java\n",
      "c\n"
     ]
    }
   ],
   "source": [
    "for i in lang:\n",
    "    print(i)"
   ]
  },
  {
   "cell_type": "code",
   "execution_count": 38,
   "id": "20d605e2",
   "metadata": {},
   "outputs": [
    {
     "name": "stdout",
     "output_type": "stream",
     "text": [
      "python\n",
      "기타\n",
      "기타\n"
     ]
    }
   ],
   "source": [
    "for i in lang:\n",
    "    if i == \"python\":\n",
    "        print(\"python\")\n",
    "    else:\n",
    "        print(\"기타\")"
   ]
  },
  {
   "cell_type": "code",
   "execution_count": 42,
   "id": "7d424a1d",
   "metadata": {},
   "outputs": [
    {
     "name": "stdout",
     "output_type": "stream",
     "text": [
      "python\n",
      "java\n",
      "c\n"
     ]
    }
   ],
   "source": [
    "count = len(lang)\n",
    "for i in range(count):\n",
    "    print(lang[i])"
   ]
  },
  {
   "cell_type": "code",
   "execution_count": 43,
   "id": "9a71bf5f",
   "metadata": {},
   "outputs": [
    {
     "name": "stdout",
     "output_type": "stream",
     "text": [
      "2\n",
      "4\n",
      "6\n",
      "8\n"
     ]
    }
   ],
   "source": [
    "for i in range(1,10):\n",
    "    if i % 2 == 0:\n",
    "        print(i)"
   ]
  },
  {
   "cell_type": "code",
   "execution_count": 44,
   "id": "1230643d",
   "metadata": {},
   "outputs": [
    {
     "name": "stdout",
     "output_type": "stream",
     "text": [
      "java\n",
      "python\n",
      "java\n",
      "python\n",
      "java\n",
      "python\n",
      "java\n",
      "python\n",
      "java\n"
     ]
    }
   ],
   "source": [
    "for i in range(1,10):\n",
    "    if i % 2 == 0:\n",
    "        print(\"python\")\n",
    "    else:\n",
    "        print(\"java\")"
   ]
  },
  {
   "cell_type": "code",
   "execution_count": 47,
   "id": "68415493",
   "metadata": {},
   "outputs": [
    {
     "name": "stdout",
     "output_type": "stream",
     "text": [
      "0 python\n",
      "1 java\n",
      "2 c\n"
     ]
    }
   ],
   "source": [
    "for i, val in enumerate(lang):\n",
    "    print(i, val)"
   ]
  },
  {
   "cell_type": "markdown",
   "id": "30fae792",
   "metadata": {},
   "source": [
    "# 문자열"
   ]
  },
  {
   "cell_type": "code",
   "execution_count": 53,
   "id": "53e087af",
   "metadata": {},
   "outputs": [
    {
     "data": {
      "text/plain": [
       "' 대구광역시 수성구 달구벌대로 650길 29 19층 '"
      ]
     },
     "execution_count": 53,
     "metadata": {},
     "output_type": "execute_result"
    }
   ],
   "source": [
    "address = ' 대구광역시 수성구 달구벌대로 650길 29 19층 '\n",
    "address"
   ]
  },
  {
   "cell_type": "code",
   "execution_count": 54,
   "id": "7a99d154",
   "metadata": {},
   "outputs": [
    {
     "data": {
      "text/plain": [
       "'대구광역시 수성구 달구벌대로 650길 29 19층'"
      ]
     },
     "execution_count": 54,
     "metadata": {},
     "output_type": "execute_result"
    }
   ],
   "source": [
    "address = address.strip()\n",
    "address"
   ]
  },
  {
   "cell_type": "code",
   "execution_count": 56,
   "id": "adff1beb",
   "metadata": {},
   "outputs": [
    {
     "data": {
      "text/plain": [
       "27"
      ]
     },
     "execution_count": 56,
     "metadata": {},
     "output_type": "execute_result"
    }
   ],
   "source": [
    "len(address)"
   ]
  },
  {
   "cell_type": "code",
   "execution_count": 59,
   "id": "a7da3a9f",
   "metadata": {},
   "outputs": [
    {
     "data": {
      "text/plain": [
       "['대구광역시', '수성구', '달구벌대로', '650길', '29', '19층']"
      ]
     },
     "execution_count": 59,
     "metadata": {},
     "output_type": "execute_result"
    }
   ],
   "source": [
    "address_list = address.split()\n",
    "address_list"
   ]
  },
  {
   "cell_type": "code",
   "execution_count": 60,
   "id": "095ad986",
   "metadata": {},
   "outputs": [
    {
     "data": {
      "text/plain": [
       "6"
      ]
     },
     "execution_count": 60,
     "metadata": {},
     "output_type": "execute_result"
    }
   ],
   "source": [
    "len(address_list)"
   ]
  },
  {
   "cell_type": "markdown",
   "id": "02818050",
   "metadata": {},
   "source": [
    "* 슬라이싱, startswith, in 을 통해 문자열에 경기가 있는지 확인하기"
   ]
  },
  {
   "cell_type": "code",
   "execution_count": 61,
   "id": "3a687936",
   "metadata": {},
   "outputs": [
    {
     "data": {
      "text/plain": [
       "'대구'"
      ]
     },
     "execution_count": 61,
     "metadata": {},
     "output_type": "execute_result"
    }
   ],
   "source": [
    "address[:2]"
   ]
  },
  {
   "cell_type": "code",
   "execution_count": 62,
   "id": "87359381",
   "metadata": {},
   "outputs": [
    {
     "data": {
      "text/plain": [
       "True"
      ]
     },
     "execution_count": 62,
     "metadata": {},
     "output_type": "execute_result"
    }
   ],
   "source": [
    "address.startswith(\"대구\")"
   ]
  },
  {
   "cell_type": "code",
   "execution_count": 63,
   "id": "e088265a",
   "metadata": {},
   "outputs": [
    {
     "data": {
      "text/plain": [
       "True"
      ]
     },
     "execution_count": 63,
     "metadata": {},
     "output_type": "execute_result"
    }
   ],
   "source": [
    "\"대구\" in address"
   ]
  },
  {
   "cell_type": "markdown",
   "id": "7144acf1",
   "metadata": {},
   "source": [
    "# 리스트"
   ]
  },
  {
   "cell_type": "code",
   "execution_count": 69,
   "id": "c04d982b",
   "metadata": {},
   "outputs": [
    {
     "data": {
      "text/plain": [
       "'수성구'"
      ]
     },
     "execution_count": 69,
     "metadata": {},
     "output_type": "execute_result"
    }
   ],
   "source": [
    "gu = address_list[1]\n",
    "gu"
   ]
  },
  {
   "cell_type": "code",
   "execution_count": 70,
   "id": "7ead44ae",
   "metadata": {},
   "outputs": [
    {
     "data": {
      "text/plain": [
       "'달구벌대로'"
      ]
     },
     "execution_count": 70,
     "metadata": {},
     "output_type": "execute_result"
    }
   ],
   "source": [
    "street = address_list[2]\n",
    "street"
   ]
  },
  {
   "cell_type": "code",
   "execution_count": 71,
   "id": "a9f3bac0",
   "metadata": {},
   "outputs": [
    {
     "data": {
      "text/plain": [
       "'19층'"
      ]
     },
     "execution_count": 71,
     "metadata": {},
     "output_type": "execute_result"
    }
   ],
   "source": [
    "address_list[-1]"
   ]
  },
  {
   "cell_type": "code",
   "execution_count": 72,
   "id": "c00e629d",
   "metadata": {},
   "outputs": [
    {
     "data": {
      "text/plain": [
       "'대구광역시_수성구_달구벌대로_650길_29_19층'"
      ]
     },
     "execution_count": 72,
     "metadata": {},
     "output_type": "execute_result"
    }
   ],
   "source": [
    "\"_\".join(address_list)"
   ]
  },
  {
   "cell_type": "code",
   "execution_count": 73,
   "id": "aa08a5e2",
   "metadata": {},
   "outputs": [
    {
     "data": {
      "text/plain": [
       "False"
      ]
     },
     "execution_count": 73,
     "metadata": {},
     "output_type": "execute_result"
    }
   ],
   "source": [
    "\"대구\" in address_list"
   ]
  },
  {
   "cell_type": "code",
   "execution_count": 74,
   "id": "5f912c79",
   "metadata": {},
   "outputs": [
    {
     "data": {
      "text/plain": [
       "True"
      ]
     },
     "execution_count": 74,
     "metadata": {},
     "output_type": "execute_result"
    }
   ],
   "source": [
    "\"대구광역시\" in address_list"
   ]
  },
  {
   "cell_type": "code",
   "execution_count": null,
   "id": "0e4ef356",
   "metadata": {},
   "outputs": [],
   "source": []
  }
 ],
 "metadata": {
  "kernelspec": {
   "display_name": "Python 3 (ipykernel)",
   "language": "python",
   "name": "python3"
  },
  "language_info": {
   "codemirror_mode": {
    "name": "ipython",
    "version": 3
   },
   "file_extension": ".py",
   "mimetype": "text/x-python",
   "name": "python",
   "nbconvert_exporter": "python",
   "pygments_lexer": "ipython3",
   "version": "3.9.13"
  }
 },
 "nbformat": 4,
 "nbformat_minor": 5
}
