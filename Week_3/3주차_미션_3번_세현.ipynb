{
 "cells": [
  {
   "cell_type": "code",
   "execution_count": 11,
   "metadata": {
    "colab": {
     "base_uri": "https://localhost:8080/"
    },
    "id": "WSFTrMzZC9Zc",
    "outputId": "a75ab1fa-4b45-4826-c224-0079a6dae1a8"
   },
   "outputs": [
    {
     "name": "stdout",
     "output_type": "stream",
     "text": [
      "Requirement already satisfied: koreanize-matplotlib in /usr/local/lib/python3.10/dist-packages (0.1.1)\n",
      "Requirement already satisfied: matplotlib in /usr/local/lib/python3.10/dist-packages (from koreanize-matplotlib) (3.7.1)\n",
      "Requirement already satisfied: contourpy>=1.0.1 in /usr/local/lib/python3.10/dist-packages (from matplotlib->koreanize-matplotlib) (1.2.1)\n",
      "Requirement already satisfied: cycler>=0.10 in /usr/local/lib/python3.10/dist-packages (from matplotlib->koreanize-matplotlib) (0.12.1)\n",
      "Requirement already satisfied: fonttools>=4.22.0 in /usr/local/lib/python3.10/dist-packages (from matplotlib->koreanize-matplotlib) (4.53.1)\n",
      "Requirement already satisfied: kiwisolver>=1.0.1 in /usr/local/lib/python3.10/dist-packages (from matplotlib->koreanize-matplotlib) (1.4.5)\n",
      "Requirement already satisfied: numpy>=1.20 in /usr/local/lib/python3.10/dist-packages (from matplotlib->koreanize-matplotlib) (1.26.4)\n",
      "Requirement already satisfied: packaging>=20.0 in /usr/local/lib/python3.10/dist-packages (from matplotlib->koreanize-matplotlib) (24.1)\n",
      "Requirement already satisfied: pillow>=6.2.0 in /usr/local/lib/python3.10/dist-packages (from matplotlib->koreanize-matplotlib) (9.4.0)\n",
      "Requirement already satisfied: pyparsing>=2.3.1 in /usr/local/lib/python3.10/dist-packages (from matplotlib->koreanize-matplotlib) (3.1.2)\n",
      "Requirement already satisfied: python-dateutil>=2.7 in /usr/local/lib/python3.10/dist-packages (from matplotlib->koreanize-matplotlib) (2.8.2)\n",
      "Requirement already satisfied: six>=1.5 in /usr/local/lib/python3.10/dist-packages (from python-dateutil>=2.7->matplotlib->koreanize-matplotlib) (1.16.0)\n"
     ]
    }
   ],
   "source": [
    "import pandas as pd\n",
    "import numpy as np\n",
    "import seaborn as sns\n",
    "\n",
    "# 한글폰트 사용을 위해 설치\n",
    "# 아래 모듈을 설치하고 불러오면 별도의 한글폰트 설정이 필요 없습니다.\n",
    "# colab 에서도 아래 설치 문구의 주석을 제거하고 설치하고 import 해주기만 하면 한글폰트가 잘 나옵니다.\n",
    "!pip install koreanize-matplotlib\n",
    "\n",
    "import koreanize_matplotlib\n",
    "\n",
    "# df = pd.read_csv(\"boostcourse-ds-510/data/NHIS_OPEN_GJ_2017.CSV.zip\", encoding=\"cp949\")\n",
    "df = pd.read_csv(\"https://raw.githubusercontent.com/corazzon/boostcourse-ds-510/master/data/NHIS_OPEN_GJ_2017.CSV.zip\",\n",
    "                 encoding=\"cp949\")"
   ]
  },
  {
   "cell_type": "code",
   "execution_count": 12,
   "metadata": {
    "colab": {
     "base_uri": "https://localhost:8080/"
    },
    "id": "WW4QuwTuFCIS",
    "outputId": "09299513-2cf9-4fda-d32b-56bf4f6d8c2d"
   },
   "outputs": [
    {
     "name": "stdout",
     "output_type": "stream",
     "text": [
      "   기준년도  가입자일련번호  성별코드  연령대코드(5세단위)  시도코드  신장(5Cm단위)  체중(5Kg 단위)  허리둘레  시력(좌)  \\\n",
      "0  2017        1     1           13    46      170.0        65.0  91.0    1.0   \n",
      "1  2017        2     2            8    41      150.0        45.0  73.4    1.2   \n",
      "2  2017        3     1            8    45      175.0        75.0  94.0    1.0   \n",
      "3  2017        4     2           12    11      155.0        55.0  67.5    0.9   \n",
      "4  2017        5     1            8    41      175.0        75.0  93.0    1.5   \n",
      "\n",
      "   시력(우)  ...  감마지티피  흡연상태  음주여부  구강검진 수검여부  치아우식증유무  결손치유무  치아마모증유무  \\\n",
      "0    1.2  ...   25.0   3.0   0.0          1      NaN    NaN      NaN   \n",
      "1    1.0  ...   10.0   1.0   0.0          1      NaN    NaN      NaN   \n",
      "2    0.8  ...  136.0   1.0   0.0          1      NaN    NaN      NaN   \n",
      "3    1.0  ...   30.0   1.0   1.0          0      NaN    NaN      NaN   \n",
      "4    1.5  ...   68.0   3.0   0.0          0      NaN    NaN      NaN   \n",
      "\n",
      "   제3대구치(사랑니)이상   치석   데이터공개일자  \n",
      "0           NaN  1.0  20181126  \n",
      "1           NaN  1.0  20181126  \n",
      "2           NaN  0.0  20181126  \n",
      "3           NaN  NaN  20181126  \n",
      "4           NaN  NaN  20181126  \n",
      "\n",
      "[5 rows x 34 columns]\n"
     ]
    }
   ],
   "source": [
    "import pandas as pd\n",
    "\n",
    "# 파일 경로\n",
    "file_path = \"/content/NHIS_OPEN_GJ_2017.CSV\"\n",
    "\n",
    "# CSV 파일 읽기\n",
    "df = pd.read_csv(file_path, encoding=\"cp949\")\n",
    "\n",
    "# 데이터프레임 확인\n",
    "print(df.head())"
   ]
  },
  {
   "cell_type": "code",
   "execution_count": 7,
   "metadata": {
    "colab": {
     "base_uri": "https://localhost:8080/",
     "height": 561
    },
    "id": "lc1JzDYRH2i3",
    "outputId": "2e930a42-4048-4e45-d977-92c21370939e"
   },
   "outputs": [
    {
     "ename": "NameError",
     "evalue": "name 'df' is not defined",
     "output_type": "error",
     "traceback": [
      "\u001b[1;31m---------------------------------------------------------------------------\u001b[0m",
      "\u001b[1;31mNameError\u001b[0m                                 Traceback (most recent call last)",
      "\u001b[1;32m~\\AppData\\Local\\Temp\\ipykernel_30292\\3143019827.py\u001b[0m in \u001b[0;36m<module>\u001b[1;34m\u001b[0m\n\u001b[1;32m----> 1\u001b[1;33m \u001b[0mdf\u001b[0m\u001b[1;33m[\u001b[0m\u001b[1;34m\"흡연\"\u001b[0m\u001b[1;33m]\u001b[0m \u001b[1;33m=\u001b[0m \u001b[0mdf\u001b[0m\u001b[1;33m[\u001b[0m\u001b[1;34m\"흡연상태\"\u001b[0m\u001b[1;33m]\u001b[0m\u001b[1;33m.\u001b[0m\u001b[0mreplace\u001b[0m\u001b[1;33m(\u001b[0m\u001b[0msmoke\u001b[0m\u001b[1;33m)\u001b[0m\u001b[1;33m\u001b[0m\u001b[1;33m\u001b[0m\u001b[0m\n\u001b[0m\u001b[0;32m      2\u001b[0m \u001b[0mdf\u001b[0m\u001b[1;33m[\u001b[0m\u001b[1;34m\"음주\"\u001b[0m\u001b[1;33m]\u001b[0m \u001b[1;33m=\u001b[0m \u001b[0mdf\u001b[0m\u001b[1;33m[\u001b[0m\u001b[1;34m\"음주여부\"\u001b[0m\u001b[1;33m]\u001b[0m\u001b[1;33m.\u001b[0m\u001b[0mreplace\u001b[0m\u001b[1;33m(\u001b[0m\u001b[0mdrink\u001b[0m\u001b[1;33m)\u001b[0m\u001b[1;33m\u001b[0m\u001b[1;33m\u001b[0m\u001b[0m\n\u001b[0;32m      3\u001b[0m \u001b[1;33m\u001b[0m\u001b[0m\n\u001b[0;32m      4\u001b[0m \u001b[1;31m# 흡연과 음주에 대한 교차 테이블 생성\u001b[0m\u001b[1;33m\u001b[0m\u001b[1;33m\u001b[0m\u001b[0m\n\u001b[0;32m      5\u001b[0m \u001b[0mcross_tab\u001b[0m \u001b[1;33m=\u001b[0m \u001b[0mpd\u001b[0m\u001b[1;33m.\u001b[0m\u001b[0mcrosstab\u001b[0m\u001b[1;33m(\u001b[0m\u001b[0mdf\u001b[0m\u001b[1;33m[\u001b[0m\u001b[1;34m\"음주\"\u001b[0m\u001b[1;33m]\u001b[0m\u001b[1;33m,\u001b[0m \u001b[0mdf\u001b[0m\u001b[1;33m[\u001b[0m\u001b[1;34m\"흡연\"\u001b[0m\u001b[1;33m]\u001b[0m\u001b[1;33m)\u001b[0m\u001b[1;33m\u001b[0m\u001b[1;33m\u001b[0m\u001b[0m\n",
      "\u001b[1;31mNameError\u001b[0m: name 'df' is not defined"
     ]
    }
   ],
   "source": [
    "import pandas as pd\n",
    "import koreanize_matplotlib\n",
    "import matplotlib.pyplot as plt\n",
    "\n",
    "# 업로드한 CSV 파일 경로\n",
    "file_path = \"/content/NHIS_OPEN_GJ_2017.CSV\"\n",
    "\n",
    "# CSV 파일 읽기\n",
    "df = pd.read_csv(file_path, encoding=\"cp949\")\n",
    "\n",
    "# 흡연과 음주 상태를 의미하는 숫자 데이터를 문자로 변경\n",
    "smoke = {1: \"흡연안함\", 2: \"끊음\", 3: \"흡연중\"}\n",
    "drink = {0: \"안마심\", 1: \"마심\"}\n",
    "\n",
    "df[\"흡연\"] = df[\"흡연상태\"].replace(smoke)\n",
    "df[\"음주\"] = df[\"음주여부\"].replace(drink)\n",
    "\n",
    "# 흡연과 음주에 대한 교차 테이블 생성\n",
    "cross_tab = pd.crosstab(df[\"음주\"], df[\"흡연\"])\n",
    "\n",
    "# 흡연 상태의 순서를 설정 (출력 예시와 동일하게)\n",
    "cross_tab = cross_tab[[\"흡연중\", \"흡연안함\", \"끊음\"]]\n",
    "\n",
    "# 결과 출력\n",
    "print(\"흡연과 음주에 대한 교차 테이블\")\n",
    "print(cross_tab)\n",
    "\n",
    "# 시각화\n",
    "cross_tab.plot(kind=\"bar\", stacked=False, color=[\"#ff7f0e\", \"#1f77b4\"])  # 색상을 예시와 유사하게 설정\n",
    "plt.title(\"흡연과 음주에 대한 교차 분석\")\n",
    "plt.xlabel(\"음주 여부\")\n",
    "plt.ylabel(\"인원 수\")\n",
    "plt.legend(title=\"흡연 상태\")\n",
    "plt.xticks(rotation=0)  # x축 라벨을 0도 회전 (수평 표시)\n",
    "plt.show()\n"
   ]
  },
  {
   "cell_type": "code",
   "execution_count": null,
   "metadata": {},
   "outputs": [],
   "source": []
  }
 ],
 "metadata": {
  "colab": {
   "provenance": []
  },
  "kernelspec": {
   "display_name": "Python 3 (ipykernel)",
   "language": "python",
   "name": "python3"
  },
  "language_info": {
   "codemirror_mode": {
    "name": "ipython",
    "version": 3
   },
   "file_extension": ".py",
   "mimetype": "text/x-python",
   "name": "python",
   "nbconvert_exporter": "python",
   "pygments_lexer": "ipython3",
   "version": "3.9.13"
  }
 },
 "nbformat": 4,
 "nbformat_minor": 1
}
