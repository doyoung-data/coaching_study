{
 "cells": [
  {
   "cell_type": "markdown",
   "id": "01b69a43-9557-41be-8634-dd7ea5378bda",
   "metadata": {},
   "source": [
    "# Q1"
   ]
  },
  {
   "cell_type": "code",
   "execution_count": 6,
   "id": "d24ee091-d801-442d-b095-b24b5387e73b",
   "metadata": {},
   "outputs": [],
   "source": [
    "import pandas as pd\n",
    "import numpy as np\n",
    "import seaborn as sns\n",
    "\n",
    "%matplotlib inline"
   ]
  },
  {
   "cell_type": "markdown",
   "id": "a1702ae4-99ec-4879-bcdc-27721861e974",
   "metadata": {},
   "source": [
    "#### 데이터 불러오기"
   ]
  },
  {
   "cell_type": "code",
   "execution_count": 1,
   "id": "7456062c-fdfe-40f9-9b0e-fb5b4d0377e6",
   "metadata": {},
   "outputs": [
    {
     "data": {
      "text/plain": [
       "(91335, 39)"
      ]
     },
     "execution_count": 1,
     "metadata": {},
     "output_type": "execute_result"
    }
   ],
   "source": [
    "import pandas as pd\n",
    "df = pd.read_csv(\"https://raw.githubusercontent.com/corazzon/boostcourse-ds-510/master/data/medical_201909.csv.zip\", low_memory=False)\n",
    "df.shape"
   ]
  },
  {
   "cell_type": "markdown",
   "id": "05ab4a57-4405-4c0c-82f3-19828dc8b8a9",
   "metadata": {},
   "source": [
    "#### 데이터 요약정보 보기"
   ]
  },
  {
   "cell_type": "code",
   "execution_count": 2,
   "id": "a3859bae-bf9d-4635-8ca4-296d4e7cdca0",
   "metadata": {},
   "outputs": [
    {
     "name": "stdout",
     "output_type": "stream",
     "text": [
      "<class 'pandas.core.frame.DataFrame'>\n",
      "RangeIndex: 91335 entries, 0 to 91334\n",
      "Data columns (total 39 columns):\n",
      " #   Column     Non-Null Count  Dtype  \n",
      "---  ------     --------------  -----  \n",
      " 0   상가업소번호     91335 non-null  int64  \n",
      " 1   상호명        91335 non-null  object \n",
      " 2   지점명        1346 non-null   object \n",
      " 3   상권업종대분류코드  91335 non-null  object \n",
      " 4   상권업종대분류명   91335 non-null  object \n",
      " 5   상권업종중분류코드  91335 non-null  object \n",
      " 6   상권업종중분류명   91335 non-null  object \n",
      " 7   상권업종소분류코드  91335 non-null  object \n",
      " 8   상권업종소분류명   91335 non-null  object \n",
      " 9   표준산업분류코드   86413 non-null  object \n",
      " 10  표준산업분류명    86413 non-null  object \n",
      " 11  시도코드       90956 non-null  float64\n",
      " 12  시도명        90956 non-null  object \n",
      " 13  시군구코드      90956 non-null  float64\n",
      " 14  시군구명       90956 non-null  object \n",
      " 15  행정동코드      91335 non-null  int64  \n",
      " 16  행정동명       90956 non-null  object \n",
      " 17  법정동코드      91280 non-null  float64\n",
      " 18  법정동명       91280 non-null  object \n",
      " 19  지번코드       91335 non-null  int64  \n",
      " 20  대지구분코드     91335 non-null  int64  \n",
      " 21  대지구분명      91335 non-null  object \n",
      " 22  지번본번지      91335 non-null  int64  \n",
      " 23  지번부번지      72079 non-null  float64\n",
      " 24  지번주소       91335 non-null  object \n",
      " 25  도로명코드      91335 non-null  int64  \n",
      " 26  도로명        91335 non-null  object \n",
      " 27  건물본번지      91335 non-null  int64  \n",
      " 28  건물부번지      10604 non-null  float64\n",
      " 29  건물관리번호     91335 non-null  object \n",
      " 30  건물명        46453 non-null  object \n",
      " 31  도로명주소      91335 non-null  object \n",
      " 32  구우편번호      91323 non-null  float64\n",
      " 33  신우편번호      91333 non-null  float64\n",
      " 34  동정보        7406 non-null   object \n",
      " 35  층정보        44044 non-null  object \n",
      " 36  호정보        15551 non-null  object \n",
      " 37  경도         91335 non-null  float64\n",
      " 38  위도         91335 non-null  float64\n",
      "dtypes: float64(9), int64(7), object(23)\n",
      "memory usage: 27.2+ MB\n"
     ]
    }
   ],
   "source": [
    "df.info() "
   ]
  },
  {
   "cell_type": "markdown",
   "id": "b46c0540-177c-465d-9c23-0a47e62f5335",
   "metadata": {},
   "source": [
    "#### 데이터 상위 5개 보기"
   ]
  },
  {
   "cell_type": "code",
   "execution_count": 3,
   "id": "12ff4b56-57fe-482b-b36b-b305efb6d487",
   "metadata": {},
   "outputs": [
    {
     "data": {
      "text/html": [
       "<div>\n",
       "<style scoped>\n",
       "    .dataframe tbody tr th:only-of-type {\n",
       "        vertical-align: middle;\n",
       "    }\n",
       "\n",
       "    .dataframe tbody tr th {\n",
       "        vertical-align: top;\n",
       "    }\n",
       "\n",
       "    .dataframe thead th {\n",
       "        text-align: right;\n",
       "    }\n",
       "</style>\n",
       "<table border=\"1\" class=\"dataframe\">\n",
       "  <thead>\n",
       "    <tr style=\"text-align: right;\">\n",
       "      <th></th>\n",
       "      <th>상가업소번호</th>\n",
       "      <th>상호명</th>\n",
       "      <th>지점명</th>\n",
       "      <th>상권업종대분류코드</th>\n",
       "      <th>상권업종대분류명</th>\n",
       "      <th>상권업종중분류코드</th>\n",
       "      <th>상권업종중분류명</th>\n",
       "      <th>상권업종소분류코드</th>\n",
       "      <th>상권업종소분류명</th>\n",
       "      <th>표준산업분류코드</th>\n",
       "      <th>...</th>\n",
       "      <th>건물관리번호</th>\n",
       "      <th>건물명</th>\n",
       "      <th>도로명주소</th>\n",
       "      <th>구우편번호</th>\n",
       "      <th>신우편번호</th>\n",
       "      <th>동정보</th>\n",
       "      <th>층정보</th>\n",
       "      <th>호정보</th>\n",
       "      <th>경도</th>\n",
       "      <th>위도</th>\n",
       "    </tr>\n",
       "  </thead>\n",
       "  <tbody>\n",
       "    <tr>\n",
       "      <th>0</th>\n",
       "      <td>19956873</td>\n",
       "      <td>하나산부인과</td>\n",
       "      <td>NaN</td>\n",
       "      <td>S</td>\n",
       "      <td>의료</td>\n",
       "      <td>S01</td>\n",
       "      <td>병원</td>\n",
       "      <td>S01B10</td>\n",
       "      <td>산부인과</td>\n",
       "      <td>Q86201</td>\n",
       "      <td>...</td>\n",
       "      <td>4127310900110810000010857</td>\n",
       "      <td>산호한양아파트</td>\n",
       "      <td>경기도 안산시 단원구 달미로 10</td>\n",
       "      <td>425764.0</td>\n",
       "      <td>15236.0</td>\n",
       "      <td>NaN</td>\n",
       "      <td>NaN</td>\n",
       "      <td>NaN</td>\n",
       "      <td>126.814295</td>\n",
       "      <td>37.336344</td>\n",
       "    </tr>\n",
       "    <tr>\n",
       "      <th>1</th>\n",
       "      <td>20024149</td>\n",
       "      <td>타워광명내과의원</td>\n",
       "      <td>NaN</td>\n",
       "      <td>S</td>\n",
       "      <td>의료</td>\n",
       "      <td>S01</td>\n",
       "      <td>병원</td>\n",
       "      <td>S01B07</td>\n",
       "      <td>내과/외과</td>\n",
       "      <td>Q86201</td>\n",
       "      <td>...</td>\n",
       "      <td>1168011800104670014000001</td>\n",
       "      <td>NaN</td>\n",
       "      <td>서울특별시 강남구 언주로30길 39</td>\n",
       "      <td>135270.0</td>\n",
       "      <td>6292.0</td>\n",
       "      <td>NaN</td>\n",
       "      <td>4</td>\n",
       "      <td>NaN</td>\n",
       "      <td>127.053198</td>\n",
       "      <td>37.488742</td>\n",
       "    </tr>\n",
       "    <tr>\n",
       "      <th>2</th>\n",
       "      <td>20152277</td>\n",
       "      <td>조정현신경외과의원</td>\n",
       "      <td>NaN</td>\n",
       "      <td>S</td>\n",
       "      <td>의료</td>\n",
       "      <td>S01</td>\n",
       "      <td>병원</td>\n",
       "      <td>S01B15</td>\n",
       "      <td>신경외과</td>\n",
       "      <td>Q86201</td>\n",
       "      <td>...</td>\n",
       "      <td>4139013200117400001017064</td>\n",
       "      <td>한라프라자</td>\n",
       "      <td>경기도 시흥시 중심상가로 178</td>\n",
       "      <td>429450.0</td>\n",
       "      <td>15066.0</td>\n",
       "      <td>NaN</td>\n",
       "      <td>NaN</td>\n",
       "      <td>NaN</td>\n",
       "      <td>126.734841</td>\n",
       "      <td>37.344955</td>\n",
       "    </tr>\n",
       "    <tr>\n",
       "      <th>3</th>\n",
       "      <td>20350610</td>\n",
       "      <td>한귀원정신과의원</td>\n",
       "      <td>NaN</td>\n",
       "      <td>S</td>\n",
       "      <td>의료</td>\n",
       "      <td>S01</td>\n",
       "      <td>병원</td>\n",
       "      <td>S01B99</td>\n",
       "      <td>기타병원</td>\n",
       "      <td>NaN</td>\n",
       "      <td>...</td>\n",
       "      <td>2650010400100740001009932</td>\n",
       "      <td>NaN</td>\n",
       "      <td>부산광역시 수영구 수영로 688</td>\n",
       "      <td>613100.0</td>\n",
       "      <td>48266.0</td>\n",
       "      <td>NaN</td>\n",
       "      <td>5</td>\n",
       "      <td>NaN</td>\n",
       "      <td>129.115438</td>\n",
       "      <td>35.166872</td>\n",
       "    </tr>\n",
       "    <tr>\n",
       "      <th>4</th>\n",
       "      <td>20364049</td>\n",
       "      <td>더블유스토어수지점</td>\n",
       "      <td>수지점</td>\n",
       "      <td>S</td>\n",
       "      <td>의료</td>\n",
       "      <td>S02</td>\n",
       "      <td>약국/한약방</td>\n",
       "      <td>S02A01</td>\n",
       "      <td>약국</td>\n",
       "      <td>G47811</td>\n",
       "      <td>...</td>\n",
       "      <td>4146510100107120002026238</td>\n",
       "      <td>NaN</td>\n",
       "      <td>경기도 용인시 수지구 문정로 32</td>\n",
       "      <td>448170.0</td>\n",
       "      <td>16837.0</td>\n",
       "      <td>NaN</td>\n",
       "      <td>1</td>\n",
       "      <td>NaN</td>\n",
       "      <td>127.095522</td>\n",
       "      <td>37.323528</td>\n",
       "    </tr>\n",
       "  </tbody>\n",
       "</table>\n",
       "<p>5 rows × 39 columns</p>\n",
       "</div>"
      ],
      "text/plain": [
       "     상가업소번호        상호명  지점명 상권업종대분류코드 상권업종대분류명 상권업종중분류코드 상권업종중분류명 상권업종소분류코드  \\\n",
       "0  19956873     하나산부인과  NaN         S       의료       S01       병원    S01B10   \n",
       "1  20024149   타워광명내과의원  NaN         S       의료       S01       병원    S01B07   \n",
       "2  20152277  조정현신경외과의원  NaN         S       의료       S01       병원    S01B15   \n",
       "3  20350610   한귀원정신과의원  NaN         S       의료       S01       병원    S01B99   \n",
       "4  20364049  더블유스토어수지점  수지점         S       의료       S02   약국/한약방    S02A01   \n",
       "\n",
       "  상권업종소분류명 표준산업분류코드  ...                     건물관리번호      건물명  \\\n",
       "0     산부인과   Q86201  ...  4127310900110810000010857  산호한양아파트   \n",
       "1    내과/외과   Q86201  ...  1168011800104670014000001      NaN   \n",
       "2     신경외과   Q86201  ...  4139013200117400001017064    한라프라자   \n",
       "3     기타병원      NaN  ...  2650010400100740001009932      NaN   \n",
       "4       약국   G47811  ...  4146510100107120002026238      NaN   \n",
       "\n",
       "                 도로명주소     구우편번호    신우편번호  동정보  층정보  호정보          경도  \\\n",
       "0   경기도 안산시 단원구 달미로 10  425764.0  15236.0  NaN  NaN  NaN  126.814295   \n",
       "1  서울특별시 강남구 언주로30길 39  135270.0   6292.0  NaN    4  NaN  127.053198   \n",
       "2    경기도 시흥시 중심상가로 178  429450.0  15066.0  NaN  NaN  NaN  126.734841   \n",
       "3    부산광역시 수영구 수영로 688  613100.0  48266.0  NaN    5  NaN  129.115438   \n",
       "4   경기도 용인시 수지구 문정로 32  448170.0  16837.0  NaN    1  NaN  127.095522   \n",
       "\n",
       "          위도  \n",
       "0  37.336344  \n",
       "1  37.488742  \n",
       "2  37.344955  \n",
       "3  35.166872  \n",
       "4  37.323528  \n",
       "\n",
       "[5 rows x 39 columns]"
      ]
     },
     "execution_count": 3,
     "metadata": {},
     "output_type": "execute_result"
    }
   ],
   "source": [
    "df.head() #기본 5개로 설정되어있다. "
   ]
  },
  {
   "cell_type": "markdown",
   "id": "aa66cc25-9be0-4201-8435-2057bf96b878",
   "metadata": {},
   "source": [
    "#### 데이터 하위 5개 보기"
   ]
  },
  {
   "cell_type": "code",
   "execution_count": 4,
   "id": "758b2865-aad2-497a-aeef-7131a8b9646c",
   "metadata": {},
   "outputs": [
    {
     "data": {
      "text/html": [
       "<div>\n",
       "<style scoped>\n",
       "    .dataframe tbody tr th:only-of-type {\n",
       "        vertical-align: middle;\n",
       "    }\n",
       "\n",
       "    .dataframe tbody tr th {\n",
       "        vertical-align: top;\n",
       "    }\n",
       "\n",
       "    .dataframe thead th {\n",
       "        text-align: right;\n",
       "    }\n",
       "</style>\n",
       "<table border=\"1\" class=\"dataframe\">\n",
       "  <thead>\n",
       "    <tr style=\"text-align: right;\">\n",
       "      <th></th>\n",
       "      <th>상가업소번호</th>\n",
       "      <th>상호명</th>\n",
       "      <th>지점명</th>\n",
       "      <th>상권업종대분류코드</th>\n",
       "      <th>상권업종대분류명</th>\n",
       "      <th>상권업종중분류코드</th>\n",
       "      <th>상권업종중분류명</th>\n",
       "      <th>상권업종소분류코드</th>\n",
       "      <th>상권업종소분류명</th>\n",
       "      <th>표준산업분류코드</th>\n",
       "      <th>...</th>\n",
       "      <th>건물관리번호</th>\n",
       "      <th>건물명</th>\n",
       "      <th>도로명주소</th>\n",
       "      <th>구우편번호</th>\n",
       "      <th>신우편번호</th>\n",
       "      <th>동정보</th>\n",
       "      <th>층정보</th>\n",
       "      <th>호정보</th>\n",
       "      <th>경도</th>\n",
       "      <th>위도</th>\n",
       "    </tr>\n",
       "  </thead>\n",
       "  <tbody>\n",
       "    <tr>\n",
       "      <th>91330</th>\n",
       "      <td>16196725</td>\n",
       "      <td>온누리약국</td>\n",
       "      <td>베스트</td>\n",
       "      <td>S</td>\n",
       "      <td>의료</td>\n",
       "      <td>S02</td>\n",
       "      <td>약국/한약방</td>\n",
       "      <td>S02A01</td>\n",
       "      <td>약국</td>\n",
       "      <td>G47811</td>\n",
       "      <td>...</td>\n",
       "      <td>3017011200115070000021096</td>\n",
       "      <td>NaN</td>\n",
       "      <td>대전광역시 서구 문예로 67</td>\n",
       "      <td>302831.0</td>\n",
       "      <td>35240.0</td>\n",
       "      <td>NaN</td>\n",
       "      <td>NaN</td>\n",
       "      <td>NaN</td>\n",
       "      <td>127.389865</td>\n",
       "      <td>36.352728</td>\n",
       "    </tr>\n",
       "    <tr>\n",
       "      <th>91331</th>\n",
       "      <td>16192180</td>\n",
       "      <td>리원</td>\n",
       "      <td>봄산후조</td>\n",
       "      <td>S</td>\n",
       "      <td>의료</td>\n",
       "      <td>S07</td>\n",
       "      <td>의료관련서비스업</td>\n",
       "      <td>S07A07</td>\n",
       "      <td>산후조리원</td>\n",
       "      <td>S96993</td>\n",
       "      <td>...</td>\n",
       "      <td>4128112300111460000011715</td>\n",
       "      <td>청한프라자</td>\n",
       "      <td>경기도 고양시 덕양구 성신로 14</td>\n",
       "      <td>412827.0</td>\n",
       "      <td>10503.0</td>\n",
       "      <td>NaN</td>\n",
       "      <td>NaN</td>\n",
       "      <td>NaN</td>\n",
       "      <td>126.830144</td>\n",
       "      <td>37.627530</td>\n",
       "    </tr>\n",
       "    <tr>\n",
       "      <th>91332</th>\n",
       "      <td>16127538</td>\n",
       "      <td>참좋은요양병원</td>\n",
       "      <td>NaN</td>\n",
       "      <td>S</td>\n",
       "      <td>의료</td>\n",
       "      <td>S01</td>\n",
       "      <td>병원</td>\n",
       "      <td>S01B17</td>\n",
       "      <td>노인/치매병원</td>\n",
       "      <td>Q86102</td>\n",
       "      <td>...</td>\n",
       "      <td>2641010800105380001005572</td>\n",
       "      <td>한신시티빌</td>\n",
       "      <td>부산광역시 금정구 금강로 209</td>\n",
       "      <td>609841.0</td>\n",
       "      <td>46294.0</td>\n",
       "      <td>NaN</td>\n",
       "      <td>2</td>\n",
       "      <td>NaN</td>\n",
       "      <td>129.082790</td>\n",
       "      <td>35.227138</td>\n",
       "    </tr>\n",
       "    <tr>\n",
       "      <th>91333</th>\n",
       "      <td>16108681</td>\n",
       "      <td>경희중앙한의원</td>\n",
       "      <td>NaN</td>\n",
       "      <td>S</td>\n",
       "      <td>의료</td>\n",
       "      <td>S01</td>\n",
       "      <td>병원</td>\n",
       "      <td>S01B06</td>\n",
       "      <td>한의원</td>\n",
       "      <td>Q86203</td>\n",
       "      <td>...</td>\n",
       "      <td>1174010500103450009002392</td>\n",
       "      <td>NaN</td>\n",
       "      <td>서울특별시 강동구 천중로 213</td>\n",
       "      <td>134811.0</td>\n",
       "      <td>5303.0</td>\n",
       "      <td>NaN</td>\n",
       "      <td>NaN</td>\n",
       "      <td>NaN</td>\n",
       "      <td>127.143958</td>\n",
       "      <td>37.540993</td>\n",
       "    </tr>\n",
       "    <tr>\n",
       "      <th>91334</th>\n",
       "      <td>16109073</td>\n",
       "      <td>천안김안과천안역본점의원</td>\n",
       "      <td>NaN</td>\n",
       "      <td>S</td>\n",
       "      <td>의료</td>\n",
       "      <td>S01</td>\n",
       "      <td>병원</td>\n",
       "      <td>S01B13</td>\n",
       "      <td>안과의원</td>\n",
       "      <td>Q86201</td>\n",
       "      <td>...</td>\n",
       "      <td>4413110700102660017016314</td>\n",
       "      <td>김안과</td>\n",
       "      <td>충청남도 천안시 동남구 중앙로 92</td>\n",
       "      <td>330952.0</td>\n",
       "      <td>31127.0</td>\n",
       "      <td>NaN</td>\n",
       "      <td>NaN</td>\n",
       "      <td>NaN</td>\n",
       "      <td>127.152651</td>\n",
       "      <td>36.806640</td>\n",
       "    </tr>\n",
       "  </tbody>\n",
       "</table>\n",
       "<p>5 rows × 39 columns</p>\n",
       "</div>"
      ],
      "text/plain": [
       "         상가업소번호           상호명   지점명 상권업종대분류코드 상권업종대분류명 상권업종중분류코드  상권업종중분류명  \\\n",
       "91330  16196725         온누리약국   베스트         S       의료       S02    약국/한약방   \n",
       "91331  16192180            리원  봄산후조         S       의료       S07  의료관련서비스업   \n",
       "91332  16127538       참좋은요양병원   NaN         S       의료       S01        병원   \n",
       "91333  16108681       경희중앙한의원   NaN         S       의료       S01        병원   \n",
       "91334  16109073  천안김안과천안역본점의원   NaN         S       의료       S01        병원   \n",
       "\n",
       "      상권업종소분류코드 상권업종소분류명 표준산업분류코드  ...                     건물관리번호    건물명  \\\n",
       "91330    S02A01       약국   G47811  ...  3017011200115070000021096    NaN   \n",
       "91331    S07A07    산후조리원   S96993  ...  4128112300111460000011715  청한프라자   \n",
       "91332    S01B17  노인/치매병원   Q86102  ...  2641010800105380001005572  한신시티빌   \n",
       "91333    S01B06      한의원   Q86203  ...  1174010500103450009002392    NaN   \n",
       "91334    S01B13     안과의원   Q86201  ...  4413110700102660017016314    김안과   \n",
       "\n",
       "                     도로명주소     구우편번호    신우편번호  동정보  층정보  호정보          경도  \\\n",
       "91330      대전광역시 서구 문예로 67  302831.0  35240.0  NaN  NaN  NaN  127.389865   \n",
       "91331   경기도 고양시 덕양구 성신로 14  412827.0  10503.0  NaN  NaN  NaN  126.830144   \n",
       "91332    부산광역시 금정구 금강로 209  609841.0  46294.0  NaN    2  NaN  129.082790   \n",
       "91333    서울특별시 강동구 천중로 213  134811.0   5303.0  NaN  NaN  NaN  127.143958   \n",
       "91334  충청남도 천안시 동남구 중앙로 92  330952.0  31127.0  NaN  NaN  NaN  127.152651   \n",
       "\n",
       "              위도  \n",
       "91330  36.352728  \n",
       "91331  37.627530  \n",
       "91332  35.227138  \n",
       "91333  37.540993  \n",
       "91334  36.806640  \n",
       "\n",
       "[5 rows x 39 columns]"
      ]
     },
     "execution_count": 4,
     "metadata": {},
     "output_type": "execute_result"
    }
   ],
   "source": [
    "df.tail()"
   ]
  },
  {
   "cell_type": "markdown",
   "id": "cbfdab0f-01ba-4f64-85ca-7cfb2cc3e8cc",
   "metadata": {},
   "source": [
    "##### 데이터 컬럼명 확인"
   ]
  },
  {
   "cell_type": "code",
   "execution_count": 5,
   "id": "f027fd4e-eeaf-4ca4-b34a-ab584acc8875",
   "metadata": {},
   "outputs": [
    {
     "data": {
      "text/plain": [
       "Index(['상가업소번호', '상호명', '지점명', '상권업종대분류코드', '상권업종대분류명', '상권업종중분류코드',\n",
       "       '상권업종중분류명', '상권업종소분류코드', '상권업종소분류명', '표준산업분류코드', '표준산업분류명', '시도코드',\n",
       "       '시도명', '시군구코드', '시군구명', '행정동코드', '행정동명', '법정동코드', '법정동명', '지번코드',\n",
       "       '대지구분코드', '대지구분명', '지번본번지', '지번부번지', '지번주소', '도로명코드', '도로명', '건물본번지',\n",
       "       '건물부번지', '건물관리번호', '건물명', '도로명주소', '구우편번호', '신우편번호', '동정보', '층정보',\n",
       "       '호정보', '경도', '위도'],\n",
       "      dtype='object')"
      ]
     },
     "execution_count": 5,
     "metadata": {},
     "output_type": "execute_result"
    }
   ],
   "source": [
    "df.columns"
   ]
  },
  {
   "cell_type": "markdown",
   "id": "181b1de5-ccfa-4703-abf2-def23e5647d7",
   "metadata": {},
   "source": [
    "#### 데이터 타입 확인"
   ]
  },
  {
   "cell_type": "code",
   "execution_count": 8,
   "id": "7cd722bb-05aa-483b-852f-3ef5a8578d81",
   "metadata": {},
   "outputs": [
    {
     "data": {
      "text/plain": [
       "상가업소번호         int64\n",
       "상호명           object\n",
       "지점명           object\n",
       "상권업종대분류코드     object\n",
       "상권업종대분류명      object\n",
       "상권업종중분류코드     object\n",
       "상권업종중분류명      object\n",
       "상권업종소분류코드     object\n",
       "상권업종소분류명      object\n",
       "표준산업분류코드      object\n",
       "표준산업분류명       object\n",
       "시도코드         float64\n",
       "시도명           object\n",
       "시군구코드        float64\n",
       "시군구명          object\n",
       "행정동코드          int64\n",
       "행정동명          object\n",
       "법정동코드        float64\n",
       "법정동명          object\n",
       "지번코드           int64\n",
       "대지구분코드         int64\n",
       "대지구분명         object\n",
       "지번본번지          int64\n",
       "지번부번지        float64\n",
       "지번주소          object\n",
       "도로명코드          int64\n",
       "도로명           object\n",
       "건물본번지          int64\n",
       "건물부번지        float64\n",
       "건물관리번호        object\n",
       "건물명           object\n",
       "도로명주소         object\n",
       "구우편번호        float64\n",
       "신우편번호        float64\n",
       "동정보           object\n",
       "층정보           object\n",
       "호정보           object\n",
       "경도           float64\n",
       "위도           float64\n",
       "dtype: object"
      ]
     },
     "execution_count": 8,
     "metadata": {},
     "output_type": "execute_result"
    }
   ],
   "source": [
    "df.dtypes"
   ]
  },
  {
   "cell_type": "markdown",
   "id": "1053679e-aba6-4881-a00c-6fdaef2940a5",
   "metadata": {},
   "source": [
    "#### 결측치 몇개인지 확인"
   ]
  },
  {
   "cell_type": "code",
   "execution_count": 9,
   "id": "3d1e1049-13c0-4f24-a7c6-e2f5e84ea0b2",
   "metadata": {},
   "outputs": [
    {
     "data": {
      "text/plain": [
       "상가업소번호           0\n",
       "상호명              0\n",
       "지점명          89989\n",
       "상권업종대분류코드        0\n",
       "상권업종대분류명         0\n",
       "상권업종중분류코드        0\n",
       "상권업종중분류명         0\n",
       "상권업종소분류코드        0\n",
       "상권업종소분류명         0\n",
       "표준산업분류코드      4922\n",
       "표준산업분류명       4922\n",
       "시도코드           379\n",
       "시도명            379\n",
       "시군구코드          379\n",
       "시군구명           379\n",
       "행정동코드            0\n",
       "행정동명           379\n",
       "법정동코드           55\n",
       "법정동명            55\n",
       "지번코드             0\n",
       "대지구분코드           0\n",
       "대지구분명            0\n",
       "지번본번지            0\n",
       "지번부번지        19256\n",
       "지번주소             0\n",
       "도로명코드            0\n",
       "도로명              0\n",
       "건물본번지            0\n",
       "건물부번지        80731\n",
       "건물관리번호           0\n",
       "건물명          44882\n",
       "도로명주소            0\n",
       "구우편번호           12\n",
       "신우편번호            2\n",
       "동정보          83929\n",
       "층정보          47291\n",
       "호정보          75784\n",
       "경도               0\n",
       "위도               0\n",
       "dtype: int64"
      ]
     },
     "execution_count": 9,
     "metadata": {},
     "output_type": "execute_result"
    }
   ],
   "source": [
    "df.isnull().sum() "
   ]
  },
  {
   "cell_type": "markdown",
   "id": "7609ec50-c9eb-4f02-9491-461d7bcd3435",
   "metadata": {},
   "source": [
    "#### 폰트와 마이너스 기호(음수 기호)의 표시 방식을 설정\n",
    "#### (한글 폰트 오류를 해결하고 음수 값을 올바르게 표시하는 데 필요한 설정)"
   ]
  },
  {
   "cell_type": "code",
   "execution_count": 11,
   "id": "bb5c7be0-c666-4ca3-9233-8b416f1266ef",
   "metadata": {},
   "outputs": [],
   "source": [
    "import matplotlib.pyplot as plt\n",
    "from matplotlib import rc\n",
    "\n",
    "rc('font', family='Malgun Gothic')\n",
    "plt.rcParams['axes.unicode_minus'] = False"
   ]
  },
  {
   "cell_type": "markdown",
   "id": "5434cc29-6ffd-48ca-9fa8-bf26ca28a78d",
   "metadata": {},
   "source": [
    "#### null_count에 결측지 넣어서 그래프로 확인"
   ]
  },
  {
   "cell_type": "code",
   "execution_count": 12,
   "id": "60dd04bc-8540-494c-b61f-8b718dab4e0a",
   "metadata": {},
   "outputs": [
    {
     "data": {
      "text/plain": [
       "<Axes: >"
      ]
     },
     "execution_count": 12,
     "metadata": {},
     "output_type": "execute_result"
    },
    {
     "data": {
      "image/png": "[encoded data removed]",
      "text/plain": [
       "<Figure size 500x700 with 1 Axes>"
      ]
     },
     "metadata": {},
     "output_type": "display_data"
    }
   ],
   "source": [
    "null_count = df.isnull().sum()\n",
    "null_count.plot.barh(figsize=(5,7))"
   ]
  },
  {
   "cell_type": "markdown",
   "id": "23281396-73ba-4922-b10a-e616a215e211",
   "metadata": {},
   "source": [
    "#### 문자열 데이터만 요약 하기해서 보기"
   ]
  },
  {
   "cell_type": "code",
   "execution_count": 16,
   "id": "94b43d77-aa9c-4bf6-a129-0d9cd08057b1",
   "metadata": {},
   "outputs": [
    {
     "data": {
      "text/html": [
       "<div>\n",
       "<style scoped>\n",
       "    .dataframe tbody tr th:only-of-type {\n",
       "        vertical-align: middle;\n",
       "    }\n",
       "\n",
       "    .dataframe tbody tr th {\n",
       "        vertical-align: top;\n",
       "    }\n",
       "\n",
       "    .dataframe thead th {\n",
       "        text-align: right;\n",
       "    }\n",
       "</style>\n",
       "<table border=\"1\" class=\"dataframe\">\n",
       "  <thead>\n",
       "    <tr style=\"text-align: right;\">\n",
       "      <th></th>\n",
       "      <th>상호명</th>\n",
       "      <th>지점명</th>\n",
       "      <th>상권업종대분류코드</th>\n",
       "      <th>상권업종대분류명</th>\n",
       "      <th>상권업종중분류코드</th>\n",
       "      <th>상권업종중분류명</th>\n",
       "      <th>상권업종소분류코드</th>\n",
       "      <th>상권업종소분류명</th>\n",
       "      <th>표준산업분류코드</th>\n",
       "      <th>표준산업분류명</th>\n",
       "      <th>...</th>\n",
       "      <th>법정동명</th>\n",
       "      <th>대지구분명</th>\n",
       "      <th>지번주소</th>\n",
       "      <th>도로명</th>\n",
       "      <th>건물관리번호</th>\n",
       "      <th>건물명</th>\n",
       "      <th>도로명주소</th>\n",
       "      <th>동정보</th>\n",
       "      <th>층정보</th>\n",
       "      <th>호정보</th>\n",
       "    </tr>\n",
       "  </thead>\n",
       "  <tbody>\n",
       "    <tr>\n",
       "      <th>count</th>\n",
       "      <td>91335</td>\n",
       "      <td>1346</td>\n",
       "      <td>91335</td>\n",
       "      <td>91335</td>\n",
       "      <td>91335</td>\n",
       "      <td>91335</td>\n",
       "      <td>91335</td>\n",
       "      <td>91335</td>\n",
       "      <td>86413</td>\n",
       "      <td>86413</td>\n",
       "      <td>...</td>\n",
       "      <td>91280</td>\n",
       "      <td>91335</td>\n",
       "      <td>91335</td>\n",
       "      <td>91335</td>\n",
       "      <td>91335</td>\n",
       "      <td>46453</td>\n",
       "      <td>91335</td>\n",
       "      <td>7406</td>\n",
       "      <td>44044</td>\n",
       "      <td>15551</td>\n",
       "    </tr>\n",
       "    <tr>\n",
       "      <th>unique</th>\n",
       "      <td>56910</td>\n",
       "      <td>858</td>\n",
       "      <td>1</td>\n",
       "      <td>1</td>\n",
       "      <td>5</td>\n",
       "      <td>5</td>\n",
       "      <td>34</td>\n",
       "      <td>34</td>\n",
       "      <td>15</td>\n",
       "      <td>15</td>\n",
       "      <td>...</td>\n",
       "      <td>2822</td>\n",
       "      <td>2</td>\n",
       "      <td>53118</td>\n",
       "      <td>16610</td>\n",
       "      <td>54142</td>\n",
       "      <td>17946</td>\n",
       "      <td>54031</td>\n",
       "      <td>556</td>\n",
       "      <td>74</td>\n",
       "      <td>849</td>\n",
       "    </tr>\n",
       "    <tr>\n",
       "      <th>top</th>\n",
       "      <td>리원</td>\n",
       "      <td>장례식장</td>\n",
       "      <td>S</td>\n",
       "      <td>의료</td>\n",
       "      <td>S01</td>\n",
       "      <td>병원</td>\n",
       "      <td>S02A01</td>\n",
       "      <td>약국</td>\n",
       "      <td>Q86201</td>\n",
       "      <td>일반 의원</td>\n",
       "      <td>...</td>\n",
       "      <td>중동</td>\n",
       "      <td>대지</td>\n",
       "      <td>서울특별시 동대문구 제기동 965-1</td>\n",
       "      <td>서울특별시 강남구 강남대로</td>\n",
       "      <td>1123010300109650001031604</td>\n",
       "      <td>현대아파트</td>\n",
       "      <td>서울특별시 동대문구 약령중앙로8길 10</td>\n",
       "      <td>1</td>\n",
       "      <td>1</td>\n",
       "      <td>1</td>\n",
       "    </tr>\n",
       "    <tr>\n",
       "      <th>freq</th>\n",
       "      <td>152</td>\n",
       "      <td>97</td>\n",
       "      <td>91335</td>\n",
       "      <td>91335</td>\n",
       "      <td>60774</td>\n",
       "      <td>60774</td>\n",
       "      <td>18964</td>\n",
       "      <td>18964</td>\n",
       "      <td>22555</td>\n",
       "      <td>22555</td>\n",
       "      <td>...</td>\n",
       "      <td>874</td>\n",
       "      <td>91213</td>\n",
       "      <td>198</td>\n",
       "      <td>326</td>\n",
       "      <td>198</td>\n",
       "      <td>131</td>\n",
       "      <td>198</td>\n",
       "      <td>1571</td>\n",
       "      <td>15994</td>\n",
       "      <td>1286</td>\n",
       "    </tr>\n",
       "  </tbody>\n",
       "</table>\n",
       "<p>4 rows × 23 columns</p>\n",
       "</div>"
      ],
      "text/plain": [
       "          상호명   지점명 상권업종대분류코드 상권업종대분류명 상권업종중분류코드 상권업종중분류명 상권업종소분류코드 상권업종소분류명  \\\n",
       "count   91335  1346     91335    91335     91335    91335     91335    91335   \n",
       "unique  56910   858         1        1         5        5        34       34   \n",
       "top        리원  장례식장         S       의료       S01       병원    S02A01       약국   \n",
       "freq      152    97     91335    91335     60774    60774     18964    18964   \n",
       "\n",
       "       표준산업분류코드 표준산업분류명  ...   법정동명  대지구분명                  지번주소  \\\n",
       "count     86413   86413  ...  91280  91335                 91335   \n",
       "unique       15      15  ...   2822      2                 53118   \n",
       "top      Q86201   일반 의원  ...     중동     대지  서울특별시 동대문구 제기동 965-1   \n",
       "freq      22555   22555  ...    874  91213                   198   \n",
       "\n",
       "                   도로명                     건물관리번호    건물명  \\\n",
       "count            91335                      91335  46453   \n",
       "unique           16610                      54142  17946   \n",
       "top     서울특별시 강남구 강남대로  1123010300109650001031604  현대아파트   \n",
       "freq               326                        198    131   \n",
       "\n",
       "                        도로명주소   동정보    층정보    호정보  \n",
       "count                   91335  7406  44044  15551  \n",
       "unique                  54031   556     74    849  \n",
       "top     서울특별시 동대문구 약령중앙로8길 10     1      1      1  \n",
       "freq                      198  1571  15994   1286  \n",
       "\n",
       "[4 rows x 23 columns]"
      ]
     },
     "execution_count": 16,
     "metadata": {},
     "output_type": "execute_result"
    }
   ],
   "source": [
    "df.describe(include=\"object\")"
   ]
  },
  {
   "cell_type": "markdown",
   "id": "e95bdd6e-5c5b-44f4-afa9-4b72687a2bb8",
   "metadata": {},
   "source": [
    "#### 빈도수 계산해보기"
   ]
  },
  {
   "cell_type": "code",
   "execution_count": 21,
   "id": "10451cf9-23f6-4ec6-8415-c65016d82e2e",
   "metadata": {},
   "outputs": [
    {
     "data": {
      "text/plain": [
       "상권업종소분류명\n",
       "약국         18964\n",
       "치과의원       13731\n",
       "한의원        13211\n",
       "내과/외과      11374\n",
       "기타병원        4922\n",
       "일반병원        3385\n",
       "동물병원        3098\n",
       "정형/성형외과     2562\n",
       "소아과         2472\n",
       "수의업-종합      2216\n",
       "치과기공소       1724\n",
       "이비인후과의원     1486\n",
       "한약방         1442\n",
       "피부과         1273\n",
       "산부인과        1116\n",
       "노인/치매병원     1055\n",
       "안과의원        1042\n",
       "비뇨기과         809\n",
       "종합병원         762\n",
       "치과병원         756\n",
       "언어치료         664\n",
       "유사의료업기타      629\n",
       "탕제원          517\n",
       "산후조리원        511\n",
       "신경외과         421\n",
       "한방병원         397\n",
       "척추교정치료       338\n",
       "침구원          154\n",
       "혈액원          130\n",
       "응급구조대        125\n",
       "조산원           30\n",
       "접골원            9\n",
       "수의업-기타         9\n",
       "제대혈            1\n",
       "Name: count, dtype: int64"
      ]
     },
     "execution_count": 21,
     "metadata": {},
     "output_type": "execute_result"
    }
   ],
   "source": [
    "df['상권업종소분류명'].value_counts()"
   ]
  },
  {
   "cell_type": "markdown",
   "id": "d0070fce-c07a-4194-b212-979727c229f1",
   "metadata": {},
   "source": [
    "#### 컬럼에서 중복제거한 값 보기"
   ]
  },
  {
   "cell_type": "code",
   "execution_count": 22,
   "id": "117626a3-49c7-4160-8277-bee858db6626",
   "metadata": {},
   "outputs": [
    {
     "data": {
      "text/plain": [
       "array(['의료'], dtype=object)"
      ]
     },
     "execution_count": 22,
     "metadata": {},
     "output_type": "execute_result"
    }
   ],
   "source": [
    "df[\"상권업종대분류명\"].unique() #의료만 들어있음"
   ]
  },
  {
   "cell_type": "code",
   "execution_count": 23,
   "id": "d0f7cb0d-c93a-4d8b-b29f-597769d5e447",
   "metadata": {},
   "outputs": [
    {
     "data": {
      "text/plain": [
       "1"
      ]
     },
     "execution_count": 23,
     "metadata": {},
     "output_type": "execute_result"
    }
   ],
   "source": [
    "df[\"상권업종대분류명\"].nunique() #중복값 제거한 컬럼 숫자로 보기"
   ]
  },
  {
   "cell_type": "code",
   "execution_count": 26,
   "id": "d21afe5b-69f0-4b6e-8509-f9887eef9285",
   "metadata": {},
   "outputs": [
    {
     "data": {
      "text/plain": [
       "<Axes: ylabel='상권업종대분류명'>"
      ]
     },
     "execution_count": 26,
     "metadata": {},
     "output_type": "execute_result"
    },
    {
     "data": {
      "image/png": "[encoded data removed]",
      "text/plain": [
       "<Figure size 640x480 with 1 Axes>"
      ]
     },
     "metadata": {},
     "output_type": "display_data"
    }
   ],
   "source": [
    "a = df[\"상권업종대분류명\"].value_counts(normalize=True)\n",
    "a.plot.barh()"
   ]
  },
  {
   "cell_type": "markdown",
   "id": "1bfc4f1d-d576-46d4-be39-a744bfab4089",
   "metadata": {},
   "source": [
    "#### \"상권업종소분류명\"이 \"약국\"인 데이터의 빈도수"
   ]
  },
  {
   "cell_type": "code",
   "execution_count": 27,
   "id": "a719852c-7425-4d13-a1fc-f9a50b142a8e",
   "metadata": {},
   "outputs": [
    {
     "data": {
      "text/plain": [
       "시도명\n",
       "경기도        4510\n",
       "서울특별시      3579\n",
       "부산광역시      1130\n",
       "경상남도       1017\n",
       "인천광역시      1002\n",
       "경상북도        915\n",
       "대구광역시       870\n",
       "전라북도        862\n",
       "충청남도        830\n",
       "전라남도        811\n",
       "강원도         729\n",
       "광주광역시       691\n",
       "충청북도        648\n",
       "대전광역시       603\n",
       "울산광역시       362\n",
       "제주특별자치도     226\n",
       "세종특별자치시      99\n",
       "Name: count, dtype: int64"
      ]
     },
     "execution_count": 27,
     "metadata": {},
     "output_type": "execute_result"
    }
   ],
   "source": [
    "pharmacy_counts = df[df['상권업종소분류명'] == '약국']['시도명'].value_counts()\n",
    "pharmacy_counts"
   ]
  },
  {
   "cell_type": "code",
   "execution_count": 31,
   "id": "a234d469-8a5f-4ddf-8eea-3efb2bbbcdd4",
   "metadata": {},
   "outputs": [
    {
     "data": {
      "text/plain": [
       "시도명\n",
       "경기도        4510\n",
       "서울특별시      3579\n",
       "부산광역시      1130\n",
       "경상남도       1017\n",
       "인천광역시      1002\n",
       "경상북도        915\n",
       "대구광역시       870\n",
       "전라북도        862\n",
       "충청남도        830\n",
       "전라남도        811\n",
       "강원도         729\n",
       "광주광역시       691\n",
       "충청북도        648\n",
       "대전광역시       603\n",
       "울산광역시       362\n",
       "제주특별자치도     226\n",
       "세종특별자치시      99\n",
       "Name: count, dtype: int64"
      ]
     },
     "execution_count": 31,
     "metadata": {},
     "output_type": "execute_result"
    }
   ],
   "source": [
    "df.loc[df['상권업종소분류명'] == '약국', '시도명'].value_counts()"
   ]
  },
  {
   "cell_type": "markdown",
   "id": "a0d031df-5543-49ea-bcfb-6b33e0e30457",
   "metadata": {},
   "source": [
    "#### \"상권업종소분류명\"이 \"약국\"인 데이터의 빈도수의 시각화"
   ]
  },
  {
   "cell_type": "code",
   "execution_count": 29,
   "id": "2e95c246-15c2-4dd1-851f-d0666fdc4f92",
   "metadata": {},
   "outputs": [
    {
     "data": {
      "image/png": "[encoded data removed]",
      "text/plain": [
       "<Figure size 1000x600 with 1 Axes>"
      ]
     },
     "metadata": {},
     "output_type": "display_data"
    }
   ],
   "source": [
    "plt.figure(figsize=(10, 6))  # 그래프 크기 설정\n",
    "pharmacy_counts.plot(kind='bar')\n",
    "plt.title('시도별 약국 개수') # 타이틀 레이블 이름\n",
    "plt.xlabel('시도명')  # x축 레이블 이름\n",
    "plt.ylabel('약국 수') # y 축 레이블 이름\n",
    "plt.xticks(rotation=45)  # x축 레이블 글씨가 겹치지 않도록 45도 회전\n",
    "plt.show()"
   ]
  },
  {
   "cell_type": "markdown",
   "id": "de77bfaf-6bd6-4057-8176-8f23e2f48056",
   "metadata": {},
   "source": [
    "# Q2"
   ]
  },
  {
   "cell_type": "markdown",
   "id": "db1a4896-dc65-4509-ad11-fabf6ae240be",
   "metadata": {},
   "source": [
    "#### 상권업종소분류명\"이 \"동물병원\"인 데이터의 빈도수"
   ]
  },
  {
   "cell_type": "code",
   "execution_count": 35,
   "id": "e1e86bb2-844a-4e64-8639-a00ba02af1d7",
   "metadata": {},
   "outputs": [
    {
     "data": {
      "text/plain": [
       "시도명\n",
       "경기도        992\n",
       "서울특별시      557\n",
       "인천광역시      193\n",
       "경상북도       165\n",
       "경상남도       161\n",
       "부산광역시      153\n",
       "충청남도       131\n",
       "대구광역시      119\n",
       "전라북도       111\n",
       "강원도         85\n",
       "대전광역시       77\n",
       "전라남도        77\n",
       "충청북도        75\n",
       "광주광역시       71\n",
       "울산광역시       61\n",
       "제주특별자치도     46\n",
       "세종특별자치시     13\n",
       "Name: count, dtype: int64"
      ]
     },
     "execution_count": 35,
     "metadata": {},
     "output_type": "execute_result"
    }
   ],
   "source": [
    "pet_hospital_counts = df[df['상권업종소분류명'] == '동물병원']['시도명'].value_counts()\n",
    "pet_hospital_counts"
   ]
  },
  {
   "cell_type": "markdown",
   "id": "3db94f05-2b76-4c8e-baaa-d09614967265",
   "metadata": {},
   "source": [
    "#### \"상권업종소분류명\"이 \"동물병원\"인 데이터의 빈도수의 시각화"
   ]
  },
  {
   "cell_type": "code",
   "execution_count": 36,
   "id": "329ea298-7bc8-49f4-9442-f0c3c2d50b3a",
   "metadata": {},
   "outputs": [
    {
     "data": {
      "image/png": "[encoded data removed]",
      "text/plain": [
       "<Figure size 1000x600 with 1 Axes>"
      ]
     },
     "metadata": {},
     "output_type": "display_data"
    }
   ],
   "source": [
    "plt.figure(figsize=(10, 6))  # 그래프 크기 설정\n",
    "vet_hospital_counts.plot(kind='bar')\n",
    "plt.title('시도별 동물병원 개수')  # 타이틀 레이블 이름\n",
    "plt.xlabel('시도명')  # x축 레이블 이름\n",
    "plt.ylabel('동물병원 수')  # y 축 레이블 이름\n",
    "plt.xticks(rotation=45) # x축 레이블 글씨가 겹치지 않도록 45도 회전\n",
    "plt.show()"
   ]
  },
  {
   "cell_type": "markdown",
   "id": "e51ce095-346c-4631-b642-31fe9806b6da",
   "metadata": {},
   "source": [
    "# Q3"
   ]
  },
  {
   "cell_type": "markdown",
   "id": "29e45673-9d0e-4da9-862c-8f3cea280e30",
   "metadata": {},
   "source": [
    "#### '피부'나 '성형'이 들어간 '상권업종소분류명' 필터링 하기"
   ]
  },
  {
   "cell_type": "code",
   "execution_count": 1,
   "id": "156da613-6be9-4836-9d43-b113a2e41588",
   "metadata": {},
   "outputs": [
    {
     "ename": "NameError",
     "evalue": "name 'df' is not defined",
     "output_type": "error",
     "traceback": [
      "\u001b[1;31m---------------------------------------------------------------------------\u001b[0m",
      "\u001b[1;31mNameError\u001b[0m                                 Traceback (most recent call last)",
      "\u001b[1;32m~\\AppData\\Local\\Temp\\ipykernel_23404\\1261504830.py\u001b[0m in \u001b[0;36m<module>\u001b[1;34m\u001b[0m\n\u001b[1;32m----> 1\u001b[1;33m \u001b[0mplastic_surgery\u001b[0m \u001b[1;33m=\u001b[0m \u001b[0mdf\u001b[0m\u001b[1;33m[\u001b[0m\u001b[0mdf\u001b[0m\u001b[1;33m[\u001b[0m\u001b[1;34m'상권업종소분류명'\u001b[0m\u001b[1;33m]\u001b[0m\u001b[1;33m.\u001b[0m\u001b[0mstr\u001b[0m\u001b[1;33m.\u001b[0m\u001b[0mcontains\u001b[0m\u001b[1;33m(\u001b[0m\u001b[1;34m'피부|성형'\u001b[0m\u001b[1;33m,\u001b[0m \u001b[0mna\u001b[0m\u001b[1;33m=\u001b[0m\u001b[1;32mFalse\u001b[0m\u001b[1;33m)\u001b[0m\u001b[1;33m]\u001b[0m\u001b[1;33m\u001b[0m\u001b[1;33m\u001b[0m\u001b[0m\n\u001b[0m",
      "\u001b[1;31mNameError\u001b[0m: name 'df' is not defined"
     ]
    }
   ],
   "source": [
    "plastic_surgery = df[df['상권업종소분류명'].str.contains('피부|성형', na=False)]\n",
    "plastic_surgery.head()"
   ]
  },
  {
   "cell_type": "markdown",
   "id": "25697048-fcce-4127-b8ea-f914a2db57e3",
   "metadata": {},
   "source": [
    "#### '시군구명'의 전체 병원 수 계산"
   ]
  },
  {
   "cell_type": "markdown",
   "id": "fd15be8b-3688-43b1-869a-32fa08595ead",
   "metadata": {},
   "source": [
    "#### 시군구별 전체 병원 수"
   ]
  },
  {
   "cell_type": "code",
   "execution_count": 47,
   "id": "a54b8ba6-1af0-4241-b0e4-bebcd3cb1bd9",
   "metadata": {},
   "outputs": [
    {
     "data": {
      "text/plain": [
       "시군구명\n",
       "서구      3165\n",
       "강남구     3120\n",
       "남구      2994\n",
       "중구      2724\n",
       "북구      2359\n",
       "        ... \n",
       "영양군       16\n",
       "군위군       14\n",
       "옹진군       14\n",
       "미추홀구      13\n",
       "울릉군        4\n",
       "Name: count, Length: 228, dtype: int64"
      ]
     },
     "execution_count": 47,
     "metadata": {},
     "output_type": "execute_result"
    }
   ],
   "source": [
    "total_hospitals = df['시군구명'].value_counts()\n",
    "total_hospitals"
   ]
  },
  {
   "cell_type": "markdown",
   "id": "9075954a-b90d-4a4c-ae8e-d8ca791a665e",
   "metadata": {},
   "source": [
    "#### 시군구별 피부과 및 성형외과 병원 수"
   ]
  },
  {
   "cell_type": "code",
   "execution_count": 46,
   "id": "4ce7d9ad-2025-471d-a77f-022a931f2706",
   "metadata": {},
   "outputs": [
    {
     "data": {
      "text/plain": [
       "시군구명\n",
       "강남구        603\n",
       "서초구        200\n",
       "서구         142\n",
       "중구         118\n",
       "성남시 분당구    101\n",
       "          ... \n",
       "옥천군          1\n",
       "고흥군          1\n",
       "구례군          1\n",
       "칠곡군          1\n",
       "창녕군          1\n",
       "Name: count, Length: 180, dtype: int64"
      ]
     },
     "execution_count": 46,
     "metadata": {},
     "output_type": "execute_result"
    }
   ],
   "source": [
    "plastic_surgery_count = plastic_surgery['시군구명'].value_counts()\n",
    "plastic_surgery_count"
   ]
  },
  {
   "cell_type": "markdown",
   "id": "a5ae652d-6ba9-47c4-9c1e-a08a2161435a",
   "metadata": {},
   "source": [
    "#### 비율 계산"
   ]
  },
  {
   "cell_type": "code",
   "execution_count": 49,
   "id": "cf850af5-1377-440f-a2c2-0ea2fbf92015",
   "metadata": {},
   "outputs": [],
   "source": [
    "ratio = (plastic_surgery_count / total_hospitals).fillna(0)"
   ]
  },
  {
   "cell_type": "markdown",
   "id": "5c7c4a35-0a1e-4ae4-b39e-5b3844243613",
   "metadata": {},
   "source": [
    "#### 비율이 높은 순서대로 정렬"
   ]
  },
  {
   "cell_type": "code",
   "execution_count": 50,
   "id": "0f0bc1d4-d9e9-471a-a87c-14044491e238",
   "metadata": {},
   "outputs": [],
   "source": [
    "ratio_sorted = ratio.sort_values(ascending=False)"
   ]
  },
  {
   "cell_type": "markdown",
   "id": "41908b52-6156-4099-8909-9e8e3b017a9e",
   "metadata": {},
   "source": [
    "#### 비율을 pandas의 round 함수를 사용하여 소수점 2자리로 반올림"
   ]
  },
  {
   "cell_type": "code",
   "execution_count": 54,
   "id": "d270db2d-06a4-45cd-9d12-06bcbbc9ac4f",
   "metadata": {},
   "outputs": [
    {
     "data": {
      "text/plain": [
       "시군구명\n",
       "강남구         0.19\n",
       "서초구         0.13\n",
       "부산진구        0.09\n",
       "미추홀구        0.08\n",
       "수원시 팔달구     0.07\n",
       "해운대구        0.07\n",
       "성남시 분당구     0.07\n",
       "안양시 동안구     0.07\n",
       "안산시 단원구     0.06\n",
       "마포구         0.06\n",
       "남동구         0.06\n",
       "안양시 만안구     0.06\n",
       "부평구         0.06\n",
       "용인시 기흥구     0.06\n",
       "제주시         0.06\n",
       "고양시 일산동구    0.06\n",
       "부천시         0.05\n",
       "서대문구        0.05\n",
       "영등포구        0.05\n",
       "강동구         0.05\n",
       "Name: count, dtype: float64"
      ]
     },
     "execution_count": 54,
     "metadata": {},
     "output_type": "execute_result"
    }
   ],
   "source": [
    "ratio_sorted_rounded = ratio_sorted.round(2)\n",
    "ratio_sorted_rounded.head(20)"
   ]
  },
  {
   "cell_type": "code",
   "execution_count": null,
   "id": "d549c082",
   "metadata": {},
   "outputs": [],
   "source": [
    "# '피부'나 '성형'이 들어간 '상권업종소분류명' 필터링 하기\n",
    "plastic_surgery = df[df['상권업종소분류명'].str.contains('피부|성형', na=False)]\n",
    "plastic_surgery.head()\n",
    "# 시군구별 전체 병원 수\n",
    "total_hospitals = df['시군구명'].value_counts()\n",
    "total_hospitals\n",
    "# 시군구별 피부과 및 성형외과 병원 수\n",
    "plastic_surgery_count = plastic_surgery['시군구명'].value_counts()\n",
    "plastic_surgery_count\n",
    "# 비율 계산\n",
    "ratio = (plastic_surgery_count / total_hospitals).fillna(0)\n",
    "# 비율이 높은 순서대로 정렬\n",
    "ratio_sorted = ratio.sort_values(ascending=False)\n",
    "#비율을 pandas의 round 함수를 사용하여 소수점 2자리로 반올림\n",
    "ratio_sorted_rounded = ratio_sorted.round(2)\n",
    "ratio_sorted_rounded.head(20)"
   ]
  }
 ],
 "metadata": {
  "kernelspec": {
   "display_name": "Python 3 (ipykernel)",
   "language": "python",
   "name": "python3"
  },
  "language_info": {
   "codemirror_mode": {
    "name": "ipython",
    "version": 3
   },
   "file_extension": ".py",
   "mimetype": "text/x-python",
   "name": "python",
   "nbconvert_exporter": "python",
   "pygments_lexer": "ipython3",
   "version": "3.9.13"
  }
 },
 "nbformat": 4,
 "nbformat_minor": 5
}
