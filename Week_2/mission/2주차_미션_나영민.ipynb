{
 "cells": [
  {
   "cell_type": "code",
   "execution_count": 7,
   "id": "d416569c",
   "metadata": {},
   "outputs": [],
   "source": [
    "import pandas as pd"
   ]
  },
  {
   "cell_type": "code",
   "execution_count": 11,
   "id": "ddc41849",
   "metadata": {},
   "outputs": [],
   "source": [
    "df = pd.read_csv(\"https://raw.githubusercontent.com/corazzon/boostcourse-ds-510/master/data/medical_201909.csv.zip\", low_memory=False)"
   ]
  },
  {
   "cell_type": "code",
   "execution_count": 10,
   "id": "02a55b17",
   "metadata": {},
   "outputs": [
    {
     "data": {
      "text/plain": [
       "(91335, 39)"
      ]
     },
     "execution_count": 10,
     "metadata": {},
     "output_type": "execute_result"
    }
   ],
   "source": [
    "df.shape"
   ]
  },
  {
   "cell_type": "code",
   "execution_count": 12,
   "id": "1b824729",
   "metadata": {},
   "outputs": [
    {
     "name": "stdout",
     "output_type": "stream",
     "text": [
      "Index(['상가업소번호', '상호명', '지점명', '상권업종대분류코드', '상권업종대분류명', '상권업종중분류코드',\n",
      "       '상권업종중분류명', '상권업종소분류코드', '상권업종소분류명', '표준산업분류코드', '표준산업분류명', '시도코드',\n",
      "       '시도명', '시군구코드', '시군구명', '행정동코드', '행정동명', '법정동코드', '법정동명', '지번코드',\n",
      "       '대지구분코드', '대지구분명', '지번본번지', '지번부번지', '지번주소', '도로명코드', '도로명', '건물본번지',\n",
      "       '건물부번지', '건물관리번호', '건물명', '도로명주소', '구우편번호', '신우편번호', '동정보', '층정보',\n",
      "       '호정보', '경도', '위도'],\n",
      "      dtype='object')\n"
     ]
    }
   ],
   "source": [
    "print(df.columns) "
   ]
  },
  {
   "cell_type": "code",
   "execution_count": 13,
   "id": "f41d1683",
   "metadata": {},
   "outputs": [
    {
     "name": "stdout",
     "output_type": "stream",
     "text": [
      "     상가업소번호        상호명  지점명 상권업종대분류코드 상권업종대분류명 상권업종중분류코드 상권업종중분류명 상권업종소분류코드  \\\n",
      "0  19956873     하나산부인과  NaN         S       의료       S01       병원    S01B10   \n",
      "1  20024149   타워광명내과의원  NaN         S       의료       S01       병원    S01B07   \n",
      "2  20152277  조정현신경외과의원  NaN         S       의료       S01       병원    S01B15   \n",
      "3  20350610   한귀원정신과의원  NaN         S       의료       S01       병원    S01B99   \n",
      "4  20364049  더블유스토어수지점  수지점         S       의료       S02   약국/한약방    S02A01   \n",
      "\n",
      "  상권업종소분류명 표준산업분류코드  ...                     건물관리번호      건물명  \\\n",
      "0     산부인과   Q86201  ...  4127310900110810000010857  산호한양아파트   \n",
      "1    내과/외과   Q86201  ...  1168011800104670014000001      NaN   \n",
      "2     신경외과   Q86201  ...  4139013200117400001017064    한라프라자   \n",
      "3     기타병원      NaN  ...  2650010400100740001009932      NaN   \n",
      "4       약국   G47811  ...  4146510100107120002026238      NaN   \n",
      "\n",
      "                 도로명주소     구우편번호    신우편번호  동정보  층정보  호정보          경도  \\\n",
      "0   경기도 안산시 단원구 달미로 10  425764.0  15236.0  NaN  NaN  NaN  126.814295   \n",
      "1  서울특별시 강남구 언주로30길 39  135270.0   6292.0  NaN    4  NaN  127.053198   \n",
      "2    경기도 시흥시 중심상가로 178  429450.0  15066.0  NaN  NaN  NaN  126.734841   \n",
      "3    부산광역시 수영구 수영로 688  613100.0  48266.0  NaN    5  NaN  129.115438   \n",
      "4   경기도 용인시 수지구 문정로 32  448170.0  16837.0  NaN    1  NaN  127.095522   \n",
      "\n",
      "          위도  \n",
      "0  37.336344  \n",
      "1  37.488742  \n",
      "2  37.344955  \n",
      "3  35.166872  \n",
      "4  37.323528  \n",
      "\n",
      "[5 rows x 39 columns]\n"
     ]
    }
   ],
   "source": [
    "print(df.head())"
   ]
  },
  {
   "cell_type": "code",
   "execution_count": 14,
   "id": "611cd6e2",
   "metadata": {},
   "outputs": [],
   "source": [
    "pharmacy_df = df[df['상권업종소분류명'] == '약국']"
   ]
  },
  {
   "cell_type": "code",
   "execution_count": 15,
   "id": "770daa11",
   "metadata": {},
   "outputs": [],
   "source": [
    "pharmacy_counts_pivot = pharmacy_df.pivot_table(index='시도명', \n",
    "                                                values='상권업종소분류명', \n",
    "                                                aggfunc='count')"
   ]
  },
  {
   "cell_type": "code",
   "execution_count": 16,
   "id": "8ef94035",
   "metadata": {},
   "outputs": [
    {
     "name": "stdout",
     "output_type": "stream",
     "text": [
      "         상권업종소분류명\n",
      "시도명              \n",
      "강원도           729\n",
      "경기도          4510\n",
      "경상남도         1017\n",
      "경상북도          915\n",
      "광주광역시         691\n",
      "대구광역시         870\n",
      "대전광역시         603\n",
      "부산광역시        1130\n",
      "서울특별시        3579\n",
      "세종특별자치시        99\n",
      "울산광역시         362\n",
      "인천광역시        1002\n",
      "전라남도          811\n",
      "전라북도          862\n",
      "제주특별자치도       226\n",
      "충청남도          830\n",
      "충청북도          648\n"
     ]
    }
   ],
   "source": [
    "print(pharmacy_counts_pivot)"
   ]
  }
 ],
 "metadata": {
  "kernelspec": {
   "display_name": "Python 3 (ipykernel)",
   "language": "python",
   "name": "python3"
  },
  "language_info": {
   "codemirror_mode": {
    "name": "ipython",
    "version": 3
   },
   "file_extension": ".py",
   "mimetype": "text/x-python",
   "name": "python",
   "nbconvert_exporter": "python",
   "pygments_lexer": "ipython3",
   "version": "3.9.13"
  }
 },
 "nbformat": 4,
 "nbformat_minor": 5
}
