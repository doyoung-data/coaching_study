{
 "cells": [
  {
   "cell_type": "markdown",
   "id": "f94f3612",
   "metadata": {},
   "source": [
    "# 공공데이터 상권정보 분석해보기\n",
    "* https://www.data.go.kr/dataset/15012005/fileData.do\n",
    "* 국가중점데이터인 상권정보"
   ]
  },
  {
   "cell_type": "markdown",
   "id": "f0084d9b",
   "metadata": {},
   "source": [
    "# 필요한 라이브러리 불러오기"
   ]
  },
  {
   "cell_type": "code",
   "execution_count": null,
   "id": "d83c8c47",
   "metadata": {},
   "outputs": [],
   "source": []
  },
  {
   "cell_type": "markdown",
   "id": "d6b24029",
   "metadata": {},
   "source": [
    "# 시각화를 위한 폰트 설정"
   ]
  },
  {
   "cell_type": "code",
   "execution_count": 1,
   "id": "dfdc0032",
   "metadata": {},
   "outputs": [],
   "source": [
    "# 한글폰트 사용을 위해 설치\n",
    "# 아래 모듈을 설치하고 불러오면 별도의 한글폰트 설정이 필요 없습니다.\n",
    "# !pip install koreanize-matplotlib\n",
    "\n",
    "# import koreanize_matplotlib"
   ]
  },
  {
   "cell_type": "code",
   "execution_count": null,
   "id": "56fd2e24",
   "metadata": {},
   "outputs": [],
   "source": [
    "import matplotlib.pyplot as plt\n",
    "from IPython.display import set_matplotlib_formats\n",
    "# Window 의 한글 폰트 설정\n",
    "# plt.rc('font',family='Malgun Gothic')\n",
    "# Mac 의 한글 폰트 설정\n",
    "# plt.rc('font', family='AppleGothic') \n",
    "# plt.rc('axes', unicode_minus=False)\n",
    "\n",
    "# 폰트가 선명하게 보이기 위해 - 그래프에 retina display 적용\n",
    "# retina 대신 svg 등의 설정을 할 수도 있으며 \n",
    "# 디스플레이(모니터)가 retina 를 지원해야만 선명한 차이를 볼 수 있습니다.\n",
    "%config InlineBackend.figure_format = 'retina'\n",
    "\n",
    "# 그래프가 노트북 안에 보이게 하기 위해\n",
    "%matplotlib inline"
   ]
  },
  {
   "cell_type": "markdown",
   "id": "b3ced6b3",
   "metadata": {},
   "source": [
    "# 데이터 로드하기\n",
    "* 판다스에서 데이터를 로드할 때는 read_csv\n",
    "* 데이터를 df라는 변수에 담기\n",
    "* shape를 통해 데이터의 갯수 파악"
   ]
  },
  {
   "cell_type": "code",
   "execution_count": null,
   "id": "8d5a4f2e",
   "metadata": {},
   "outputs": [],
   "source": []
  },
  {
   "cell_type": "markdown",
   "id": "3d01a999",
   "metadata": {},
   "source": [
    "# 데이터 미리보기\n",
    "* head, tail을 통해 데이터를 미리 볼 수 있다"
   ]
  },
  {
   "cell_type": "code",
   "execution_count": null,
   "id": "23271536",
   "metadata": {},
   "outputs": [],
   "source": []
  },
  {
   "cell_type": "code",
   "execution_count": null,
   "id": "f017757c",
   "metadata": {},
   "outputs": [],
   "source": []
  },
  {
   "cell_type": "code",
   "execution_count": null,
   "id": "ca6a21fb",
   "metadata": {},
   "outputs": [],
   "source": []
  },
  {
   "cell_type": "markdown",
   "id": "dbb6f96c",
   "metadata": {},
   "source": [
    "# 데이터 요약하기"
   ]
  },
  {
   "cell_type": "markdown",
   "id": "3035693e",
   "metadata": {},
   "source": [
    "## 요약 정보"
   ]
  },
  {
   "cell_type": "code",
   "execution_count": null,
   "id": "63898103",
   "metadata": {},
   "outputs": [],
   "source": []
  },
  {
   "cell_type": "markdown",
   "id": "4e41a448",
   "metadata": {},
   "source": [
    "## 컬럼명 보기"
   ]
  },
  {
   "cell_type": "code",
   "execution_count": null,
   "id": "8076469a",
   "metadata": {},
   "outputs": [],
   "source": []
  },
  {
   "cell_type": "markdown",
   "id": "188b25cd",
   "metadata": {},
   "source": [
    "## 데이터 타입"
   ]
  },
  {
   "cell_type": "code",
   "execution_count": null,
   "id": "5b952377",
   "metadata": {},
   "outputs": [],
   "source": []
  },
  {
   "cell_type": "markdown",
   "id": "d5102f1d",
   "metadata": {},
   "source": [
    "## 결측지"
   ]
  },
  {
   "cell_type": "code",
   "execution_count": null,
   "id": "df29c055",
   "metadata": {},
   "outputs": [],
   "source": []
  },
  {
   "cell_type": "code",
   "execution_count": null,
   "id": "1bdb647e",
   "metadata": {},
   "outputs": [],
   "source": [
    "# 위에서 구한 결측치를 .plot.bar 를 통해 막대그래프로 표현합니다. \n"
   ]
  },
  {
   "cell_type": "code",
   "execution_count": 2,
   "id": "26519181",
   "metadata": {},
   "outputs": [],
   "source": [
    "# 위에서 계산한 결측치 수를 reset_index 를 통해 데이터프레임으로 만들어 줍니다.\n",
    "# df_null_count 변수에 결과를 담아서 head 로 미리보기를 합니다.\n"
   ]
  },
  {
   "cell_type": "markdown",
   "id": "a12c9766",
   "metadata": {},
   "source": [
    "## 컬럼명 변경하기"
   ]
  },
  {
   "cell_type": "code",
   "execution_count": null,
   "id": "2e4951d1",
   "metadata": {},
   "outputs": [],
   "source": []
  },
  {
   "cell_type": "markdown",
   "id": "a9e4f244",
   "metadata": {},
   "source": [
    "## 정렬하기"
   ]
  },
  {
   "cell_type": "code",
   "execution_count": null,
   "id": "fc7fec5a",
   "metadata": {},
   "outputs": [],
   "source": []
  },
  {
   "cell_type": "markdown",
   "id": "49ac4966",
   "metadata": {},
   "source": [
    "## 특정 컬러만 불러오기"
   ]
  },
  {
   "cell_type": "code",
   "execution_count": null,
   "id": "cf0fb71a",
   "metadata": {},
   "outputs": [],
   "source": []
  },
  {
   "cell_type": "code",
   "execution_count": null,
   "id": "2846ce65",
   "metadata": {},
   "outputs": [],
   "source": []
  },
  {
   "cell_type": "code",
   "execution_count": null,
   "id": "c07afd00",
   "metadata": {},
   "outputs": [],
   "source": []
  },
  {
   "cell_type": "markdown",
   "id": "241fa8be",
   "metadata": {},
   "source": [
    "## 제거하기"
   ]
  },
  {
   "cell_type": "code",
   "execution_count": null,
   "id": "d03bb0db",
   "metadata": {},
   "outputs": [],
   "source": []
  },
  {
   "cell_type": "code",
   "execution_count": null,
   "id": "e7c1d5ca",
   "metadata": {},
   "outputs": [],
   "source": []
  },
  {
   "cell_type": "markdown",
   "id": "63cabc9a",
   "metadata": {},
   "source": [
    "# 기초 통계값 보기"
   ]
  },
  {
   "cell_type": "markdown",
   "id": "6127da65",
   "metadata": {},
   "source": [
    "## 기초 통계 수치"
   ]
  },
  {
   "cell_type": "code",
   "execution_count": null,
   "id": "bab20409",
   "metadata": {},
   "outputs": [],
   "source": []
  },
  {
   "cell_type": "code",
   "execution_count": null,
   "id": "60015f98",
   "metadata": {},
   "outputs": [],
   "source": []
  },
  {
   "cell_type": "code",
   "execution_count": null,
   "id": "5c8d0762",
   "metadata": {},
   "outputs": [],
   "source": []
  },
  {
   "cell_type": "code",
   "execution_count": null,
   "id": "3e649b2d",
   "metadata": {},
   "outputs": [],
   "source": []
  },
  {
   "cell_type": "code",
   "execution_count": null,
   "id": "6b1ec13c",
   "metadata": {},
   "outputs": [],
   "source": []
  },
  {
   "cell_type": "markdown",
   "id": "c78cbe4a",
   "metadata": {},
   "source": [
    "## 기초통계값 요약하기 - describe\n",
    "```\n",
    "describe 를 사용하면 데이터를 요약해 볼 수 있습니다. 기본적으로 수치형 데이터를 요약해서 보여줍니다. 데이터의 갯수, 평균, 표준편차, 최솟값, 1사분위수(25%), 2사분위수(50%), 3사분위수(75%), 최댓값을 볼 수 있습니다.\n",
    "```"
   ]
  },
  {
   "cell_type": "code",
   "execution_count": null,
   "id": "8fc70762",
   "metadata": {},
   "outputs": [],
   "source": []
  }
 ],
 "metadata": {
  "kernelspec": {
   "display_name": "Python 3 (ipykernel)",
   "language": "python",
   "name": "python3"
  },
  "language_info": {
   "codemirror_mode": {
    "name": "ipython",
    "version": 3
   },
   "file_extension": ".py",
   "mimetype": "text/x-python",
   "name": "python",
   "nbconvert_exporter": "python",
   "pygments_lexer": "ipython3",
   "version": "3.9.13"
  }
 },
 "nbformat": 4,
 "nbformat_minor": 5
}
